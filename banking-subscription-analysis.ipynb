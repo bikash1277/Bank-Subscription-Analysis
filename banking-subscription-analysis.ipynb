{
 "cells": [
  {
   "cell_type": "code",
   "execution_count": 1,
   "metadata": {
    "_cell_guid": "b1076dfc-b9ad-4769-8c92-a6c4dae69d19",
    "_uuid": "8f2839f25d086af736a60e9eeb907d3b93b6e0e5"
   },
   "outputs": [],
   "source": [
    "# This Python 3 environment comes with many helpful analytics libraries installed\n",
    "# It is defined by the kaggle/python Docker image: https://github.com/kaggle/docker-python\n",
    "# For example, here's several helpful packages to load\n",
    "\n",
    "# Importing all the libraries required for this analysis\n",
    "\n",
    "import numpy as np\n",
    "import pandas as pd\n",
    "import matplotlib.pyplot as plt\n",
    "import seaborn as sns\n",
    "import warnings \n",
    "warnings.filterwarnings('ignore')\n",
    "pd.set_option('display.width', 1000)\n",
    "pd.set_option('display.expand_frame_repr', False)\n",
    "\n",
    "#Importing train_test_split \n",
    "from sklearn.model_selection import train_test_split\n",
    "\n",
    "# Importing StandardScaler \n",
    "from sklearn.preprocessing import StandardScaler\n",
    "\n",
    "# Importing RFE and LinearRegression\n",
    "from sklearn.feature_selection import RFE\n",
    "from sklearn.linear_model import LogisticRegression\n",
    "\n",
    "# Importing statsmodel\n",
    "import statsmodels.api as sm \n",
    "\n",
    "# Importing VIF for calculation\n",
    "from statsmodels.stats.outliers_influence import variance_inflation_factor\n",
    "\n",
    "# Importing r2_score for calculation\n",
    "from sklearn.metrics import r2_score \n",
    "\n",
    "from sklearn import metrics\n",
    "from sklearn.metrics import confusion_matrix\n",
    "from sklearn.metrics import precision_score, recall_score\n",
    "from sklearn.metrics import precision_recall_curve\n",
    "\n",
    "# Input data files are available in the read-only \"../input/\" directory\n",
    "# For example, running this (by clicking run or pressing Shift+Enter) will list all files under the input directory\n",
    "pd.set_option('display.max_columns', 150)\n",
    "pd.set_option('display.max_rows', 150)\n",
    "\n",
    "import os\n",
    "for dirname, _, filenames in os.walk('/kaggle/input'):\n",
    "    for filename in filenames:\n",
    "        print(os.path.join(dirname, filename))\n",
    "\n",
    "# You can write up to 20GB to the current directory (/kaggle/working/) that gets preserved as output when you create a version using \"Save & Run All\" \n",
    "# You can also write temporary files to /kaggle/temp/, but they won't be saved outside of the current session"
   ]
  },
  {
   "cell_type": "markdown",
   "metadata": {},
   "source": [
    "## Step 1. Reading and Understanding Data "
   ]
  },
  {
   "cell_type": "code",
   "execution_count": 2,
   "metadata": {},
   "outputs": [],
   "source": [
    "data=pd.read_csv('bank-additional-full.csv')"
   ]
  },
  {
   "cell_type": "code",
   "execution_count": 3,
   "metadata": {},
   "outputs": [
    {
     "data": {
      "text/html": [
       "<div>\n",
       "<style scoped>\n",
       "    .dataframe tbody tr th:only-of-type {\n",
       "        vertical-align: middle;\n",
       "    }\n",
       "\n",
       "    .dataframe tbody tr th {\n",
       "        vertical-align: top;\n",
       "    }\n",
       "\n",
       "    .dataframe thead th {\n",
       "        text-align: right;\n",
       "    }\n",
       "</style>\n",
       "<table border=\"1\" class=\"dataframe\">\n",
       "  <thead>\n",
       "    <tr style=\"text-align: right;\">\n",
       "      <th></th>\n",
       "      <th>age</th>\n",
       "      <th>job</th>\n",
       "      <th>marital</th>\n",
       "      <th>education</th>\n",
       "      <th>default</th>\n",
       "      <th>housing</th>\n",
       "      <th>loan</th>\n",
       "      <th>contact</th>\n",
       "      <th>month</th>\n",
       "      <th>day_of_week</th>\n",
       "      <th>duration</th>\n",
       "      <th>campaign</th>\n",
       "      <th>pdays</th>\n",
       "      <th>previous</th>\n",
       "      <th>poutcome</th>\n",
       "      <th>emp.var.rate</th>\n",
       "      <th>cons.price.idx</th>\n",
       "      <th>cons.conf.idx</th>\n",
       "      <th>euribor3m</th>\n",
       "      <th>nr.employed</th>\n",
       "      <th>y</th>\n",
       "    </tr>\n",
       "  </thead>\n",
       "  <tbody>\n",
       "    <tr>\n",
       "      <th>0</th>\n",
       "      <td>56</td>\n",
       "      <td>housemaid</td>\n",
       "      <td>married</td>\n",
       "      <td>basic.4y</td>\n",
       "      <td>no</td>\n",
       "      <td>no</td>\n",
       "      <td>no</td>\n",
       "      <td>telephone</td>\n",
       "      <td>may</td>\n",
       "      <td>mon</td>\n",
       "      <td>261</td>\n",
       "      <td>1</td>\n",
       "      <td>999</td>\n",
       "      <td>0</td>\n",
       "      <td>nonexistent</td>\n",
       "      <td>1.1</td>\n",
       "      <td>93.994</td>\n",
       "      <td>-36.4</td>\n",
       "      <td>4.857</td>\n",
       "      <td>5191.0</td>\n",
       "      <td>no</td>\n",
       "    </tr>\n",
       "    <tr>\n",
       "      <th>1</th>\n",
       "      <td>57</td>\n",
       "      <td>services</td>\n",
       "      <td>married</td>\n",
       "      <td>high.school</td>\n",
       "      <td>unknown</td>\n",
       "      <td>no</td>\n",
       "      <td>no</td>\n",
       "      <td>telephone</td>\n",
       "      <td>may</td>\n",
       "      <td>mon</td>\n",
       "      <td>149</td>\n",
       "      <td>1</td>\n",
       "      <td>999</td>\n",
       "      <td>0</td>\n",
       "      <td>nonexistent</td>\n",
       "      <td>1.1</td>\n",
       "      <td>93.994</td>\n",
       "      <td>-36.4</td>\n",
       "      <td>4.857</td>\n",
       "      <td>5191.0</td>\n",
       "      <td>no</td>\n",
       "    </tr>\n",
       "    <tr>\n",
       "      <th>2</th>\n",
       "      <td>37</td>\n",
       "      <td>services</td>\n",
       "      <td>married</td>\n",
       "      <td>high.school</td>\n",
       "      <td>no</td>\n",
       "      <td>yes</td>\n",
       "      <td>no</td>\n",
       "      <td>telephone</td>\n",
       "      <td>may</td>\n",
       "      <td>mon</td>\n",
       "      <td>226</td>\n",
       "      <td>1</td>\n",
       "      <td>999</td>\n",
       "      <td>0</td>\n",
       "      <td>nonexistent</td>\n",
       "      <td>1.1</td>\n",
       "      <td>93.994</td>\n",
       "      <td>-36.4</td>\n",
       "      <td>4.857</td>\n",
       "      <td>5191.0</td>\n",
       "      <td>no</td>\n",
       "    </tr>\n",
       "    <tr>\n",
       "      <th>3</th>\n",
       "      <td>40</td>\n",
       "      <td>admin.</td>\n",
       "      <td>married</td>\n",
       "      <td>basic.6y</td>\n",
       "      <td>no</td>\n",
       "      <td>no</td>\n",
       "      <td>no</td>\n",
       "      <td>telephone</td>\n",
       "      <td>may</td>\n",
       "      <td>mon</td>\n",
       "      <td>151</td>\n",
       "      <td>1</td>\n",
       "      <td>999</td>\n",
       "      <td>0</td>\n",
       "      <td>nonexistent</td>\n",
       "      <td>1.1</td>\n",
       "      <td>93.994</td>\n",
       "      <td>-36.4</td>\n",
       "      <td>4.857</td>\n",
       "      <td>5191.0</td>\n",
       "      <td>no</td>\n",
       "    </tr>\n",
       "    <tr>\n",
       "      <th>4</th>\n",
       "      <td>56</td>\n",
       "      <td>services</td>\n",
       "      <td>married</td>\n",
       "      <td>high.school</td>\n",
       "      <td>no</td>\n",
       "      <td>no</td>\n",
       "      <td>yes</td>\n",
       "      <td>telephone</td>\n",
       "      <td>may</td>\n",
       "      <td>mon</td>\n",
       "      <td>307</td>\n",
       "      <td>1</td>\n",
       "      <td>999</td>\n",
       "      <td>0</td>\n",
       "      <td>nonexistent</td>\n",
       "      <td>1.1</td>\n",
       "      <td>93.994</td>\n",
       "      <td>-36.4</td>\n",
       "      <td>4.857</td>\n",
       "      <td>5191.0</td>\n",
       "      <td>no</td>\n",
       "    </tr>\n",
       "  </tbody>\n",
       "</table>\n",
       "</div>"
      ],
      "text/plain": [
       "   age        job  marital    education  default housing loan    contact month day_of_week  duration  campaign  pdays  previous     poutcome  emp.var.rate  cons.price.idx  cons.conf.idx  euribor3m  nr.employed   y\n",
       "0   56  housemaid  married     basic.4y       no      no   no  telephone   may         mon       261         1    999         0  nonexistent           1.1          93.994          -36.4      4.857       5191.0  no\n",
       "1   57   services  married  high.school  unknown      no   no  telephone   may         mon       149         1    999         0  nonexistent           1.1          93.994          -36.4      4.857       5191.0  no\n",
       "2   37   services  married  high.school       no     yes   no  telephone   may         mon       226         1    999         0  nonexistent           1.1          93.994          -36.4      4.857       5191.0  no\n",
       "3   40     admin.  married     basic.6y       no      no   no  telephone   may         mon       151         1    999         0  nonexistent           1.1          93.994          -36.4      4.857       5191.0  no\n",
       "4   56   services  married  high.school       no      no  yes  telephone   may         mon       307         1    999         0  nonexistent           1.1          93.994          -36.4      4.857       5191.0  no"
      ]
     },
     "execution_count": 3,
     "metadata": {},
     "output_type": "execute_result"
    }
   ],
   "source": [
    "data.head()"
   ]
  },
  {
   "cell_type": "code",
   "execution_count": 4,
   "metadata": {},
   "outputs": [
    {
     "name": "stdout",
     "output_type": "stream",
     "text": [
      "<class 'pandas.core.frame.DataFrame'>\n",
      "RangeIndex: 41188 entries, 0 to 41187\n",
      "Data columns (total 21 columns):\n",
      " #   Column          Non-Null Count  Dtype  \n",
      "---  ------          --------------  -----  \n",
      " 0   age             41188 non-null  int64  \n",
      " 1   job             41188 non-null  object \n",
      " 2   marital         41188 non-null  object \n",
      " 3   education       41188 non-null  object \n",
      " 4   default         41188 non-null  object \n",
      " 5   housing         41188 non-null  object \n",
      " 6   loan            41188 non-null  object \n",
      " 7   contact         41188 non-null  object \n",
      " 8   month           41188 non-null  object \n",
      " 9   day_of_week     41188 non-null  object \n",
      " 10  duration        41188 non-null  int64  \n",
      " 11  campaign        41188 non-null  int64  \n",
      " 12  pdays           41188 non-null  int64  \n",
      " 13  previous        41188 non-null  int64  \n",
      " 14  poutcome        41188 non-null  object \n",
      " 15  emp.var.rate    41188 non-null  float64\n",
      " 16  cons.price.idx  41188 non-null  float64\n",
      " 17  cons.conf.idx   41188 non-null  float64\n",
      " 18  euribor3m       41188 non-null  float64\n",
      " 19  nr.employed     41188 non-null  float64\n",
      " 20  y               41188 non-null  object \n",
      "dtypes: float64(5), int64(5), object(11)\n",
      "memory usage: 6.6+ MB\n"
     ]
    }
   ],
   "source": [
    "data.info()"
   ]
  },
  {
   "cell_type": "code",
   "execution_count": 5,
   "metadata": {},
   "outputs": [
    {
     "data": {
      "text/plain": [
       "(41188, 21)"
      ]
     },
     "execution_count": 5,
     "metadata": {},
     "output_type": "execute_result"
    }
   ],
   "source": [
    "data.shape"
   ]
  },
  {
   "cell_type": "markdown",
   "metadata": {},
   "source": [
    "#### The column y stands for subscription done or not hence rename that column to 'subscription'"
   ]
  },
  {
   "cell_type": "code",
   "execution_count": 6,
   "metadata": {},
   "outputs": [],
   "source": [
    "data=data.rename(columns={'y':'subscription'})"
   ]
  },
  {
   "cell_type": "markdown",
   "metadata": {},
   "source": [
    "#### Checking Null values in the required dataset"
   ]
  },
  {
   "cell_type": "code",
   "execution_count": 7,
   "metadata": {},
   "outputs": [
    {
     "data": {
      "text/plain": [
       "age               0\n",
       "job               0\n",
       "marital           0\n",
       "education         0\n",
       "default           0\n",
       "housing           0\n",
       "loan              0\n",
       "contact           0\n",
       "month             0\n",
       "day_of_week       0\n",
       "duration          0\n",
       "campaign          0\n",
       "pdays             0\n",
       "previous          0\n",
       "poutcome          0\n",
       "emp.var.rate      0\n",
       "cons.price.idx    0\n",
       "cons.conf.idx     0\n",
       "euribor3m         0\n",
       "nr.employed       0\n",
       "subscription      0\n",
       "dtype: int64"
      ]
     },
     "execution_count": 7,
     "metadata": {},
     "output_type": "execute_result"
    }
   ],
   "source": [
    "data.isnull().sum()"
   ]
  },
  {
   "cell_type": "markdown",
   "metadata": {},
   "source": [
    "#### Checking Data types of columns"
   ]
  },
  {
   "cell_type": "code",
   "execution_count": 8,
   "metadata": {},
   "outputs": [
    {
     "data": {
      "text/plain": [
       "Index(['age', 'duration', 'campaign', 'pdays', 'previous', 'emp.var.rate', 'cons.price.idx', 'cons.conf.idx', 'euribor3m', 'nr.employed'], dtype='object')"
      ]
     },
     "execution_count": 8,
     "metadata": {},
     "output_type": "execute_result"
    }
   ],
   "source": [
    "data.select_dtypes(include='number').columns"
   ]
  },
  {
   "cell_type": "code",
   "execution_count": 9,
   "metadata": {},
   "outputs": [
    {
     "data": {
      "text/plain": [
       "Index(['job', 'marital', 'education', 'default', 'housing', 'loan', 'contact', 'month', 'day_of_week', 'poutcome', 'subscription'], dtype='object')"
      ]
     },
     "execution_count": 9,
     "metadata": {},
     "output_type": "execute_result"
    }
   ],
   "source": [
    "data.select_dtypes(include='object').columns"
   ]
  },
  {
   "cell_type": "markdown",
   "metadata": {},
   "source": [
    "#### Checking unique data in all columns"
   ]
  },
  {
   "cell_type": "code",
   "execution_count": 10,
   "metadata": {},
   "outputs": [
    {
     "data": {
      "text/plain": [
       "age                 78\n",
       "job                 12\n",
       "marital              4\n",
       "education            8\n",
       "default              3\n",
       "housing              3\n",
       "loan                 3\n",
       "contact              2\n",
       "month               10\n",
       "day_of_week          5\n",
       "duration          1544\n",
       "campaign            42\n",
       "pdays               27\n",
       "previous             8\n",
       "poutcome             3\n",
       "emp.var.rate        10\n",
       "cons.price.idx      26\n",
       "cons.conf.idx       26\n",
       "euribor3m          316\n",
       "nr.employed         11\n",
       "subscription         2\n",
       "dtype: int64"
      ]
     },
     "execution_count": 10,
     "metadata": {},
     "output_type": "execute_result"
    }
   ],
   "source": [
    "data.apply(pd.Series.nunique, axis = 0)"
   ]
  },
  {
   "cell_type": "code",
   "execution_count": 11,
   "metadata": {},
   "outputs": [],
   "source": [
    "def uniqueDataView(data,col):\n",
    "    count=0\n",
    "    res_dct = {col[i]: data[col[i]].unique() for i in range(len(col))}\n",
    "    for key in res_dct:\n",
    "        count=count+1\n",
    "        print(count, \".\",key, ' : ', list(res_dct[key]))\n",
    "        print()"
   ]
  },
  {
   "cell_type": "code",
   "execution_count": 12,
   "metadata": {},
   "outputs": [
    {
     "name": "stdout",
     "output_type": "stream",
     "text": [
      "1 . campaign  :  [1, 2, 3, 4, 5, 6, 7, 8, 9, 10, 11, 12, 13, 19, 18, 23, 14, 22, 25, 16, 17, 15, 20, 56, 39, 35, 42, 28, 26, 27, 32, 21, 24, 29, 31, 30, 41, 37, 40, 33, 34, 43]\n",
      "\n",
      "2 . cons.conf.idx  :  [-36.4, -41.8, -42.7, -36.1, -40.4, -42.0, -45.9, -50.0, -47.1, -46.2, -40.8, -33.6, -31.4, -29.8, -26.9, -30.1, -33.0, -34.8, -34.6, -40.0, -39.8, -40.3, -38.3, -37.5, -49.5, -50.8]\n",
      "\n",
      "3 . cons.price.idx  :  [93.994, 94.465, 93.91799999999999, 93.444, 93.79799999999999, 93.2, 92.756, 92.84299999999999, 93.075, 92.89299999999999, 92.963, 92.469, 92.20100000000001, 92.37899999999999, 92.431, 92.649, 92.713, 93.369, 93.749, 93.876, 94.055, 94.215, 94.027, 94.199, 94.601, 94.76700000000001]\n",
      "\n",
      "4 . contact  :  ['telephone', 'cellular']\n",
      "\n",
      "5 . day_of_week  :  ['mon', 'tue', 'wed', 'thu', 'fri']\n",
      "\n",
      "6 . default  :  ['no', 'unknown', 'yes']\n",
      "\n",
      "7 . education  :  ['basic.4y', 'high.school', 'basic.6y', 'basic.9y', 'professional.course', 'unknown', 'university.degree', 'illiterate']\n",
      "\n",
      "8 . emp.var.rate  :  [1.1, 1.4, -0.1, -0.2, -1.8, -2.9, -3.4, -3.0, -1.7, -1.1]\n",
      "\n",
      "9 . housing  :  ['no', 'yes', 'unknown']\n",
      "\n",
      "10 . job  :  ['housemaid', 'services', 'admin.', 'blue-collar', 'technician', 'retired', 'management', 'unemployed', 'self-employed', 'unknown', 'entrepreneur', 'student']\n",
      "\n",
      "11 . loan  :  ['no', 'yes', 'unknown']\n",
      "\n",
      "12 . marital  :  ['married', 'single', 'divorced', 'unknown']\n",
      "\n",
      "13 . month  :  ['may', 'jun', 'jul', 'aug', 'oct', 'nov', 'dec', 'mar', 'apr', 'sep']\n",
      "\n",
      "14 . nr.employed  :  [5191.0, 5228.1, 5195.8, 5176.3, 5099.1, 5076.2, 5017.5, 5023.5, 5008.7, 4991.6, 4963.6]\n",
      "\n",
      "15 . pdays  :  [999, 6, 4, 3, 5, 1, 0, 10, 7, 8, 9, 11, 2, 12, 13, 14, 15, 16, 21, 17, 18, 22, 25, 26, 19, 27, 20]\n",
      "\n",
      "16 . poutcome  :  ['nonexistent', 'failure', 'success']\n",
      "\n",
      "17 . previous  :  [0, 1, 2, 3, 4, 5, 6, 7]\n",
      "\n",
      "18 . subscription  :  ['no', 'yes']\n",
      "\n"
     ]
    }
   ],
   "source": [
    "uniqueDataView(data,list(data.columns.difference(['euribor3m','age','duration'])))"
   ]
  },
  {
   "cell_type": "markdown",
   "metadata": {},
   "source": [
    "#### Observation:\n",
    "        1. There is no column having value as Nan/Null.\n",
    "        2. Following columns are object type column that means these are going to be consider for categorical data analysis.\n",
    "               'job','marital','education','default','housing','loan','contact','month','day_of_week','poutcome','y','pday'\n",
    "        3. The column default,education,housing,job,marital ,loan should contain data as 'unknown'.\n",
    "        4. The pdays column contains data as 999 which is invalid."
   ]
  },
  {
   "cell_type": "markdown",
   "metadata": {},
   "source": [
    "#### Checking the data category in the all object type columns"
   ]
  },
  {
   "cell_type": "code",
   "execution_count": 13,
   "metadata": {},
   "outputs": [
    {
     "data": {
      "text/plain": [
       "age                0.00\n",
       "job                0.00\n",
       "marital            0.00\n",
       "education          0.00\n",
       "default            0.00\n",
       "housing            0.00\n",
       "loan               0.00\n",
       "contact            0.00\n",
       "month              0.00\n",
       "day_of_week        0.00\n",
       "duration           0.00\n",
       "campaign           0.00\n",
       "pdays             96.32\n",
       "previous           0.00\n",
       "poutcome           0.00\n",
       "emp.var.rate       0.00\n",
       "cons.price.idx     0.00\n",
       "cons.conf.idx      0.00\n",
       "euribor3m          0.00\n",
       "nr.employed        0.00\n",
       "subscription       0.00\n",
       "dtype: float64"
      ]
     },
     "execution_count": 13,
     "metadata": {},
     "output_type": "execute_result"
    }
   ],
   "source": [
    "round((data.isin([999]).sum()/data.shape[0])*100,2)"
   ]
  },
  {
   "cell_type": "markdown",
   "metadata": {},
   "source": [
    "    The column pday have 96% data in '999' hence removing the column from analysis"
   ]
  },
  {
   "cell_type": "markdown",
   "metadata": {},
   "source": [
    "## Step 2: Data Cleaning"
   ]
  },
  {
   "cell_type": "code",
   "execution_count": 14,
   "metadata": {},
   "outputs": [],
   "source": [
    "data=data.drop('pdays',axis=1)"
   ]
  },
  {
   "cell_type": "code",
   "execution_count": 15,
   "metadata": {},
   "outputs": [
    {
     "data": {
      "text/plain": [
       "age                0.00\n",
       "job                0.80\n",
       "marital            0.19\n",
       "education          4.20\n",
       "default           20.87\n",
       "housing            2.40\n",
       "loan               2.40\n",
       "contact            0.00\n",
       "month              0.00\n",
       "day_of_week        0.00\n",
       "duration           0.00\n",
       "campaign           0.00\n",
       "previous           0.00\n",
       "poutcome           0.00\n",
       "emp.var.rate       0.00\n",
       "cons.price.idx     0.00\n",
       "cons.conf.idx      0.00\n",
       "euribor3m          0.00\n",
       "nr.employed        0.00\n",
       "subscription       0.00\n",
       "dtype: float64"
      ]
     },
     "execution_count": 15,
     "metadata": {},
     "output_type": "execute_result"
    }
   ],
   "source": [
    "round((data.isin(['unknown']).sum()/data.shape[0])*100,2)"
   ]
  },
  {
   "cell_type": "markdown",
   "metadata": {},
   "source": [
    "#### Handing invalid values"
   ]
  },
  {
   "cell_type": "code",
   "execution_count": 16,
   "metadata": {},
   "outputs": [],
   "source": [
    "def removeInvalidValues(dataset,invalidValue):\n",
    "    for val in invalidValue:\n",
    "        for y in dataset.columns:\n",
    "            dataset.loc[:,y]=dataset.loc[:,y].drop(dataset[dataset[y]==val].index)\n",
    "    return (round((data.isin(invalidValue).sum()/data.shape[0])*100,2))"
   ]
  },
  {
   "cell_type": "code",
   "execution_count": 17,
   "metadata": {},
   "outputs": [
    {
     "data": {
      "text/plain": [
       "age               0.0\n",
       "job               0.0\n",
       "marital           0.0\n",
       "education         0.0\n",
       "default           0.0\n",
       "housing           0.0\n",
       "loan              0.0\n",
       "contact           0.0\n",
       "month             0.0\n",
       "day_of_week       0.0\n",
       "duration          0.0\n",
       "campaign          0.0\n",
       "previous          0.0\n",
       "poutcome          0.0\n",
       "emp.var.rate      0.0\n",
       "cons.price.idx    0.0\n",
       "cons.conf.idx     0.0\n",
       "euribor3m         0.0\n",
       "nr.employed       0.0\n",
       "subscription      0.0\n",
       "dtype: float64"
      ]
     },
     "execution_count": 17,
     "metadata": {},
     "output_type": "execute_result"
    }
   ],
   "source": [
    "removeInvalidValues(data,['unknown'])"
   ]
  },
  {
   "cell_type": "markdown",
   "metadata": {},
   "source": [
    "#### Checking values in each categorical columns"
   ]
  },
  {
   "cell_type": "code",
   "execution_count": 18,
   "metadata": {},
   "outputs": [],
   "source": [
    "def dataView(data,col):\n",
    "    count=0\n",
    "    res = {col[i]: round(data[col[i]].value_counts(normalize=True),3).to_frame()for i in range(len(col))}\n",
    "    for k,v in res.items():\n",
    "        count=count+1\n",
    "        print('\\n--------------------------------------------------------------\\n',count,'.',v)"
   ]
  },
  {
   "cell_type": "code",
   "execution_count": 19,
   "metadata": {
    "scrolled": true
   },
   "outputs": [
    {
     "name": "stdout",
     "output_type": "stream",
     "text": [
      "\n",
      "--------------------------------------------------------------\n",
      " 1 .     campaign\n",
      "1      0.428\n",
      "2      0.257\n",
      "3      0.130\n",
      "4      0.064\n",
      "5      0.039\n",
      "6      0.024\n",
      "7      0.015\n",
      "8      0.010\n",
      "9      0.007\n",
      "10     0.005\n",
      "11     0.004\n",
      "12     0.003\n",
      "13     0.002\n",
      "14     0.002\n",
      "17     0.001\n",
      "15     0.001\n",
      "16     0.001\n",
      "18     0.001\n",
      "20     0.001\n",
      "19     0.001\n",
      "21     0.001\n",
      "22     0.000\n",
      "23     0.000\n",
      "24     0.000\n",
      "27     0.000\n",
      "29     0.000\n",
      "25     0.000\n",
      "26     0.000\n",
      "28     0.000\n",
      "30     0.000\n",
      "31     0.000\n",
      "35     0.000\n",
      "33     0.000\n",
      "32     0.000\n",
      "34     0.000\n",
      "40     0.000\n",
      "42     0.000\n",
      "43     0.000\n",
      "37     0.000\n",
      "39     0.000\n",
      "41     0.000\n",
      "56     0.000\n",
      "\n",
      "--------------------------------------------------------------\n",
      " 2 .        cons.conf.idx\n",
      "-36.4          0.188\n",
      "-42.7          0.162\n",
      "-46.2          0.141\n",
      "-36.1          0.126\n",
      "-41.8          0.106\n",
      "-42.0          0.088\n",
      "-47.1          0.060\n",
      "-31.4          0.019\n",
      "-40.8          0.017\n",
      "-26.9          0.011\n",
      "-30.1          0.009\n",
      "-40.3          0.008\n",
      "-37.5          0.007\n",
      "-50.0          0.007\n",
      "-29.8          0.006\n",
      "-34.8          0.006\n",
      "-38.3          0.006\n",
      "-39.8          0.006\n",
      "-40.0          0.005\n",
      "-49.5          0.005\n",
      "-33.6          0.004\n",
      "-34.6          0.004\n",
      "-33.0          0.004\n",
      "-50.8          0.003\n",
      "-40.4          0.002\n",
      "-45.9          0.000\n",
      "\n",
      "--------------------------------------------------------------\n",
      " 3 .         cons.price.idx\n",
      "93.994           0.188\n",
      "93.918           0.162\n",
      "92.893           0.141\n",
      "93.444           0.126\n",
      "94.465           0.106\n",
      "93.200           0.088\n",
      "93.075           0.060\n",
      "92.201           0.019\n",
      "92.963           0.017\n",
      "92.431           0.011\n",
      "92.649           0.009\n",
      "94.215           0.008\n",
      "94.199           0.007\n",
      "92.843           0.007\n",
      "92.379           0.006\n",
      "93.369           0.006\n",
      "94.027           0.006\n",
      "94.055           0.006\n",
      "93.876           0.005\n",
      "94.601           0.005\n",
      "92.469           0.004\n",
      "93.749           0.004\n",
      "92.713           0.004\n",
      "94.767           0.003\n",
      "93.798           0.002\n",
      "92.756           0.000\n",
      "\n",
      "--------------------------------------------------------------\n",
      " 4 .            contact\n",
      "cellular     0.635\n",
      "telephone    0.365\n",
      "\n",
      "--------------------------------------------------------------\n",
      " 5 .      day_of_week\n",
      "thu        0.209\n",
      "mon        0.207\n",
      "wed        0.197\n",
      "tue        0.196\n",
      "fri        0.190\n",
      "\n",
      "--------------------------------------------------------------\n",
      " 6 .      default\n",
      "no       1.0\n",
      "yes      0.0\n",
      "\n",
      "--------------------------------------------------------------\n",
      " 7 .                      education\n",
      "university.degree        0.308\n",
      "high.school              0.241\n",
      "basic.9y                 0.153\n",
      "professional.course      0.133\n",
      "basic.4y                 0.106\n",
      "basic.6y                 0.058\n",
      "illiterate               0.000\n",
      "\n",
      "--------------------------------------------------------------\n",
      " 8 .       emp.var.rate\n",
      " 1.4         0.394\n",
      "-1.8         0.223\n",
      " 1.1         0.188\n",
      "-0.1         0.089\n",
      "-2.9         0.040\n",
      "-3.4         0.026\n",
      "-1.7         0.019\n",
      "-1.1         0.015\n",
      "-3.0         0.004\n",
      "-0.2         0.000\n",
      "\n",
      "--------------------------------------------------------------\n",
      " 9 .      housing\n",
      "yes    0.537\n",
      "no     0.463\n",
      "\n",
      "--------------------------------------------------------------\n",
      " 10 .                  job\n",
      "admin.         0.255\n",
      "blue-collar    0.226\n",
      "technician     0.165\n",
      "services       0.097\n",
      "management     0.072\n",
      "retired        0.042\n",
      "entrepreneur   0.036\n",
      "self-employed  0.035\n",
      "housemaid      0.026\n",
      "unemployed     0.025\n",
      "student        0.021\n",
      "\n",
      "--------------------------------------------------------------\n",
      " 11 .       loan\n",
      "no   0.845\n",
      "yes  0.155\n",
      "\n",
      "--------------------------------------------------------------\n",
      " 12 .           marital\n",
      "married     0.606\n",
      "single      0.281\n",
      "divorced    0.112\n",
      "\n",
      "--------------------------------------------------------------\n",
      " 13 .      month\n",
      "may  0.334\n",
      "jul  0.174\n",
      "aug  0.150\n",
      "jun  0.129\n",
      "nov  0.100\n",
      "apr  0.064\n",
      "oct  0.017\n",
      "sep  0.014\n",
      "mar  0.013\n",
      "dec  0.004\n",
      "\n",
      "--------------------------------------------------------------\n",
      " 14 .         nr.employed\n",
      "5228.1        0.394\n",
      "5099.1        0.207\n",
      "5191.0        0.188\n",
      "5195.8        0.089\n",
      "5076.2        0.040\n",
      "5017.5        0.026\n",
      "4991.6        0.019\n",
      "5008.7        0.016\n",
      "4963.6        0.015\n",
      "5023.5        0.004\n",
      "5176.3        0.000\n",
      "\n",
      "--------------------------------------------------------------\n",
      " 15 .              poutcome\n",
      "nonexistent     0.863\n",
      "failure         0.103\n",
      "success         0.033\n",
      "\n",
      "--------------------------------------------------------------\n",
      " 16 .    previous\n",
      "0     0.863\n",
      "1     0.111\n",
      "2     0.018\n",
      "3     0.005\n",
      "4     0.002\n",
      "5     0.000\n",
      "6     0.000\n",
      "7     0.000\n",
      "\n",
      "--------------------------------------------------------------\n",
      " 17 .      subscription\n",
      "no          0.887\n",
      "yes         0.113\n"
     ]
    }
   ],
   "source": [
    "dataView(data,list(data.columns.difference(['euribor3m','age','duration'])))"
   ]
  },
  {
   "cell_type": "markdown",
   "metadata": {},
   "source": [
    "#### Handling the missing/unknown data"
   ]
  },
  {
   "cell_type": "markdown",
   "metadata": {},
   "source": [
    "#### Impute categorical data with mode and numerical data with mean"
   ]
  },
  {
   "cell_type": "markdown",
   "metadata": {},
   "source": [
    "#### Observation\n",
    "* Following columns are containing unknown or impute value in it which ideally NAN values.\n",
    "       'job', 'marital', 'education', 'default', 'housing', 'loan','poutcome'\n",
    "*  We need to fill these value with Nan then fill these with mode"
   ]
  },
  {
   "cell_type": "code",
   "execution_count": 20,
   "metadata": {},
   "outputs": [],
   "source": [
    "data.fillna(data.select_dtypes(include='number').median(), inplace=True)\n",
    "data.fillna(data.select_dtypes(include='object').mode().iloc[0], inplace=True)"
   ]
  },
  {
   "cell_type": "code",
   "execution_count": 21,
   "metadata": {},
   "outputs": [
    {
     "data": {
      "text/plain": [
       "age               0.0\n",
       "job               0.0\n",
       "marital           0.0\n",
       "education         0.0\n",
       "default           0.0\n",
       "housing           0.0\n",
       "loan              0.0\n",
       "contact           0.0\n",
       "month             0.0\n",
       "day_of_week       0.0\n",
       "duration          0.0\n",
       "campaign          0.0\n",
       "previous          0.0\n",
       "poutcome          0.0\n",
       "emp.var.rate      0.0\n",
       "cons.price.idx    0.0\n",
       "cons.conf.idx     0.0\n",
       "euribor3m         0.0\n",
       "nr.employed       0.0\n",
       "subscription      0.0\n",
       "dtype: float64"
      ]
     },
     "execution_count": 21,
     "metadata": {},
     "output_type": "execute_result"
    }
   ],
   "source": [
    "(100*data.isnull().sum()/len(data)).round(2)"
   ]
  },
  {
   "cell_type": "markdown",
   "metadata": {},
   "source": [
    "## Step 3: Data Visualization"
   ]
  },
  {
   "cell_type": "code",
   "execution_count": 22,
   "metadata": {},
   "outputs": [],
   "source": [
    "def categorical_analysis(cat_var,data):\n",
    "    plt.figure(figsize=(16,25))\n",
    "    for i in range(0,len(cat_var)):\n",
    "        plt.subplot(6,2,i+1)\n",
    "        ax=sns.countplot(y = cat_var[i], data = data,orient='v',palette='RdYlGn')\n",
    "        plt.xticks(rotation=15)\n",
    "        for rect in ax.patches:\n",
    "            width = rect.get_width()\n",
    "            plt.text(1.05*rect.get_width(), rect.get_y()+0.5*rect.get_height(),\n",
    "                 '%d' % int(width),\n",
    "                 ha='center', va='center')\n",
    "    plt.show()"
   ]
  },
  {
   "cell_type": "code",
   "execution_count": 23,
   "metadata": {},
   "outputs": [
    {
     "data": {
      "image/png": "[encoded data removed]",
      "text/plain": [
       "<Figure size 1152x1800 with 11 Axes>"
      ]
     },
     "metadata": {
      "needs_background": "light"
     },
     "output_type": "display_data"
    }
   ],
   "source": [
    "categorical_analysis(data.select_dtypes(include='object').columns,data)"
   ]
  },
  {
   "cell_type": "markdown",
   "metadata": {},
   "source": [
    "#### Observation\n",
    "* All the tables are containing null value less than 50% .Hence we have to impute those columns with mean and mode for numerical and categorical data respectively."
   ]
  },
  {
   "cell_type": "code",
   "execution_count": 24,
   "metadata": {},
   "outputs": [
    {
     "data": {
      "image/png": "[encoded data removed]",
      "text/plain": [
       "<Figure size 1152x720 with 2 Axes>"
      ]
     },
     "metadata": {
      "needs_background": "light"
     },
     "output_type": "display_data"
    }
   ],
   "source": [
    "plt.figure(figsize=(16,10))\n",
    "sns.heatmap(data.corr(), annot=True, cmap=\"RdYlGn\")\n",
    "plt.show()"
   ]
  },
  {
   "cell_type": "code",
   "execution_count": 25,
   "metadata": {},
   "outputs": [],
   "source": [
    "def categorical_analysis_box(cat_var,tar_var,data):\n",
    "    plt.figure(figsize=(16, 30))\n",
    "    for i in range(0,len(cat_var)):\n",
    "        sns.set_style(\"whitegrid\")\n",
    "        plt.subplot(6,2,i+1)\n",
    "        sns.boxplot(x = cat_var[i], y = tar_var, data = data)\n",
    "        plt.xticks(rotation=45)\n",
    "    plt.show()"
   ]
  },
  {
   "cell_type": "code",
   "execution_count": 26,
   "metadata": {},
   "outputs": [
    {
     "data": {
      "image/png": "[encoded data removed]",
      "text/plain": [
       "<Figure size 1152x2160 with 9 Axes>"
      ]
     },
     "metadata": {
      "needs_background": "light"
     },
     "output_type": "display_data"
    }
   ],
   "source": [
    "categorical_analysis_box(data.select_dtypes(include='number').columns,'subscription',data)"
   ]
  },
  {
   "cell_type": "code",
   "execution_count": 27,
   "metadata": {},
   "outputs": [
    {
     "name": "stdout",
     "output_type": "stream",
     "text": [
      "<class 'pandas.core.frame.DataFrame'>\n",
      "RangeIndex: 41188 entries, 0 to 41187\n",
      "Data columns (total 20 columns):\n",
      " #   Column          Non-Null Count  Dtype  \n",
      "---  ------          --------------  -----  \n",
      " 0   age             41188 non-null  int64  \n",
      " 1   job             41188 non-null  object \n",
      " 2   marital         41188 non-null  object \n",
      " 3   education       41188 non-null  object \n",
      " 4   default         41188 non-null  object \n",
      " 5   housing         41188 non-null  object \n",
      " 6   loan            41188 non-null  object \n",
      " 7   contact         41188 non-null  object \n",
      " 8   month           41188 non-null  object \n",
      " 9   day_of_week     41188 non-null  object \n",
      " 10  duration        41188 non-null  int64  \n",
      " 11  campaign        41188 non-null  int64  \n",
      " 12  previous        41188 non-null  int64  \n",
      " 13  poutcome        41188 non-null  object \n",
      " 14  emp.var.rate    41188 non-null  float64\n",
      " 15  cons.price.idx  41188 non-null  float64\n",
      " 16  cons.conf.idx   41188 non-null  float64\n",
      " 17  euribor3m       41188 non-null  float64\n",
      " 18  nr.employed     41188 non-null  float64\n",
      " 19  subscription    41188 non-null  object \n",
      "dtypes: float64(5), int64(4), object(11)\n",
      "memory usage: 6.3+ MB\n"
     ]
    }
   ],
   "source": [
    "data.info()"
   ]
  },
  {
   "cell_type": "code",
   "execution_count": 28,
   "metadata": {},
   "outputs": [],
   "source": [
    "# Excluding values outside 99th percentile in 'TotalVisits' & 'Page Views Per Visit' variables\n",
    "data=data[data['age']<np.nanpercentile(data['age'], 99)]\n",
    "data=data[data['duration']<np.nanpercentile(data['duration'], 99)]\n",
    "data=data[data['cons.conf.idx']<np.nanpercentile(data['cons.conf.idx'], 99)]"
   ]
  },
  {
   "cell_type": "code",
   "execution_count": 29,
   "metadata": {
    "scrolled": false
   },
   "outputs": [
    {
     "data": {
      "image/png": "[encoded data removed]",
      "text/plain": [
       "<Figure size 1152x2160 with 9 Axes>"
      ]
     },
     "metadata": {},
     "output_type": "display_data"
    }
   ],
   "source": [
    "categorical_analysis_box(data.select_dtypes(include='number').columns,'subscription',data)"
   ]
  },
  {
   "cell_type": "markdown",
   "metadata": {},
   "source": [
    "## Step 4: Data Preparation"
   ]
  },
  {
   "cell_type": "code",
   "execution_count": 30,
   "metadata": {},
   "outputs": [],
   "source": [
    "data = data.replace(to_replace = \"yes\", value = 1)\n",
    "data = data.replace(to_replace = \"no\", value = 0)"
   ]
  },
  {
   "cell_type": "code",
   "execution_count": 31,
   "metadata": {},
   "outputs": [],
   "source": [
    "# Defining the map function\n",
    "def dummies(cols,data):\n",
    "    for x in cols:\n",
    "        t = pd.get_dummies(data[x], drop_first = True,prefix=x)\n",
    "        data = pd.concat([data, t], axis = 1)\n",
    "        data.drop([x], axis = 1, inplace = True)\n",
    "    return data\n",
    "# Applying the function to the bike_data\n",
    "data=dummies(data.select_dtypes(include='object').columns,data)\n"
   ]
  },
  {
   "cell_type": "code",
   "execution_count": 33,
   "metadata": {},
   "outputs": [],
   "source": [
    "y=data['subscription']"
   ]
  },
  {
   "cell_type": "code",
   "execution_count": 34,
   "metadata": {},
   "outputs": [],
   "source": [
    "X= data.drop('subscription',axis=1)"
   ]
  },
  {
   "cell_type": "markdown",
   "metadata": {},
   "source": [
    "### Splitting the Data into Training and Testing Sets"
   ]
  },
  {
   "cell_type": "code",
   "execution_count": 35,
   "metadata": {},
   "outputs": [],
   "source": [
    "X_train,X_test,y_train,y_test=train_test_split(X, y, train_size=0.7, test_size=0.3, random_state=100)"
   ]
  },
  {
   "cell_type": "code",
   "execution_count": 36,
   "metadata": {},
   "outputs": [
    {
     "name": "stdout",
     "output_type": "stream",
     "text": [
      "X_train : (27807, 46)  y_train : (27807,)\n",
      "X_test : (11918, 46)  y_test : (11918,)\n"
     ]
    }
   ],
   "source": [
    "print('X_train :',X_train.shape,' y_train :',y_train.shape)\n",
    "print('X_test :',X_test.shape, ' y_test :',y_test.shape)"
   ]
  },
  {
   "cell_type": "markdown",
   "metadata": {},
   "source": [
    "### Rescaling the Features"
   ]
  },
  {
   "cell_type": "code",
   "execution_count": 37,
   "metadata": {},
   "outputs": [],
   "source": [
    "scaler=StandardScaler()\n",
    "cols=X_train.select_dtypes(include='number').columns\n",
    "X_train[cols]=scaler.fit_transform(X_train[cols])"
   ]
  },
  {
   "cell_type": "code",
   "execution_count": 38,
   "metadata": {},
   "outputs": [
    {
     "data": {
      "text/html": [
       "<div>\n",
       "<style scoped>\n",
       "    .dataframe tbody tr th:only-of-type {\n",
       "        vertical-align: middle;\n",
       "    }\n",
       "\n",
       "    .dataframe tbody tr th {\n",
       "        vertical-align: top;\n",
       "    }\n",
       "\n",
       "    .dataframe thead th {\n",
       "        text-align: right;\n",
       "    }\n",
       "</style>\n",
       "<table border=\"1\" class=\"dataframe\">\n",
       "  <thead>\n",
       "    <tr style=\"text-align: right;\">\n",
       "      <th></th>\n",
       "      <th>age</th>\n",
       "      <th>default</th>\n",
       "      <th>housing</th>\n",
       "      <th>loan</th>\n",
       "      <th>duration</th>\n",
       "      <th>campaign</th>\n",
       "      <th>previous</th>\n",
       "      <th>emp.var.rate</th>\n",
       "      <th>cons.price.idx</th>\n",
       "      <th>cons.conf.idx</th>\n",
       "      <th>euribor3m</th>\n",
       "      <th>nr.employed</th>\n",
       "      <th>job_blue-collar</th>\n",
       "      <th>job_entrepreneur</th>\n",
       "      <th>job_housemaid</th>\n",
       "      <th>job_management</th>\n",
       "      <th>job_retired</th>\n",
       "      <th>job_self-employed</th>\n",
       "      <th>job_services</th>\n",
       "      <th>job_student</th>\n",
       "      <th>job_technician</th>\n",
       "      <th>job_unemployed</th>\n",
       "      <th>marital_married</th>\n",
       "      <th>marital_single</th>\n",
       "      <th>education_basic.6y</th>\n",
       "      <th>education_basic.9y</th>\n",
       "      <th>education_high.school</th>\n",
       "      <th>education_illiterate</th>\n",
       "      <th>education_professional.course</th>\n",
       "      <th>education_university.degree</th>\n",
       "      <th>contact_telephone</th>\n",
       "      <th>month_aug</th>\n",
       "      <th>month_dec</th>\n",
       "      <th>month_jul</th>\n",
       "      <th>month_jun</th>\n",
       "      <th>month_mar</th>\n",
       "      <th>month_may</th>\n",
       "      <th>month_nov</th>\n",
       "      <th>month_oct</th>\n",
       "      <th>month_sep</th>\n",
       "      <th>day_of_week_mon</th>\n",
       "      <th>day_of_week_thu</th>\n",
       "      <th>day_of_week_tue</th>\n",
       "      <th>day_of_week_wed</th>\n",
       "      <th>poutcome_nonexistent</th>\n",
       "      <th>poutcome_success</th>\n",
       "    </tr>\n",
       "  </thead>\n",
       "  <tbody>\n",
       "    <tr>\n",
       "      <th>count</th>\n",
       "      <td>2.780700e+04</td>\n",
       "      <td>2.780700e+04</td>\n",
       "      <td>2.780700e+04</td>\n",
       "      <td>2.780700e+04</td>\n",
       "      <td>2.780700e+04</td>\n",
       "      <td>2.780700e+04</td>\n",
       "      <td>2.780700e+04</td>\n",
       "      <td>2.780700e+04</td>\n",
       "      <td>2.780700e+04</td>\n",
       "      <td>2.780700e+04</td>\n",
       "      <td>2.780700e+04</td>\n",
       "      <td>2.780700e+04</td>\n",
       "      <td>2.780700e+04</td>\n",
       "      <td>2.780700e+04</td>\n",
       "      <td>2.780700e+04</td>\n",
       "      <td>2.780700e+04</td>\n",
       "      <td>2.780700e+04</td>\n",
       "      <td>2.780700e+04</td>\n",
       "      <td>2.780700e+04</td>\n",
       "      <td>2.780700e+04</td>\n",
       "      <td>2.780700e+04</td>\n",
       "      <td>2.780700e+04</td>\n",
       "      <td>2.780700e+04</td>\n",
       "      <td>2.780700e+04</td>\n",
       "      <td>2.780700e+04</td>\n",
       "      <td>2.780700e+04</td>\n",
       "      <td>2.780700e+04</td>\n",
       "      <td>2.780700e+04</td>\n",
       "      <td>2.780700e+04</td>\n",
       "      <td>2.780700e+04</td>\n",
       "      <td>2.780700e+04</td>\n",
       "      <td>2.780700e+04</td>\n",
       "      <td>2.780700e+04</td>\n",
       "      <td>2.780700e+04</td>\n",
       "      <td>2.780700e+04</td>\n",
       "      <td>2.780700e+04</td>\n",
       "      <td>2.780700e+04</td>\n",
       "      <td>2.780700e+04</td>\n",
       "      <td>2.780700e+04</td>\n",
       "      <td>2.780700e+04</td>\n",
       "      <td>2.780700e+04</td>\n",
       "      <td>2.780700e+04</td>\n",
       "      <td>2.780700e+04</td>\n",
       "      <td>2.780700e+04</td>\n",
       "      <td>2.780700e+04</td>\n",
       "      <td>2.780700e+04</td>\n",
       "    </tr>\n",
       "    <tr>\n",
       "      <th>mean</th>\n",
       "      <td>1.124417e-17</td>\n",
       "      <td>2.280047e-15</td>\n",
       "      <td>-3.962259e-16</td>\n",
       "      <td>-1.200120e-15</td>\n",
       "      <td>3.343605e-17</td>\n",
       "      <td>8.217665e-16</td>\n",
       "      <td>7.760981e-16</td>\n",
       "      <td>5.160918e-16</td>\n",
       "      <td>2.522740e-15</td>\n",
       "      <td>1.264489e-15</td>\n",
       "      <td>-5.445112e-17</td>\n",
       "      <td>5.744397e-15</td>\n",
       "      <td>5.963591e-16</td>\n",
       "      <td>1.001808e-15</td>\n",
       "      <td>-3.382673e-16</td>\n",
       "      <td>-5.436807e-16</td>\n",
       "      <td>-1.027492e-15</td>\n",
       "      <td>1.499683e-15</td>\n",
       "      <td>-1.087170e-15</td>\n",
       "      <td>1.129643e-15</td>\n",
       "      <td>1.801183e-16</td>\n",
       "      <td>-3.927284e-16</td>\n",
       "      <td>-3.753925e-16</td>\n",
       "      <td>-5.902025e-16</td>\n",
       "      <td>1.638971e-15</td>\n",
       "      <td>1.717745e-15</td>\n",
       "      <td>-1.741525e-15</td>\n",
       "      <td>1.709827e-16</td>\n",
       "      <td>-3.005911e-16</td>\n",
       "      <td>7.347746e-16</td>\n",
       "      <td>-5.575270e-17</td>\n",
       "      <td>-9.576058e-16</td>\n",
       "      <td>-3.961455e-16</td>\n",
       "      <td>4.025821e-16</td>\n",
       "      <td>8.871763e-16</td>\n",
       "      <td>1.645735e-15</td>\n",
       "      <td>-9.669046e-16</td>\n",
       "      <td>1.775179e-15</td>\n",
       "      <td>4.274510e-16</td>\n",
       "      <td>1.082727e-15</td>\n",
       "      <td>1.574024e-15</td>\n",
       "      <td>-2.775570e-15</td>\n",
       "      <td>-1.752701e-15</td>\n",
       "      <td>6.503471e-16</td>\n",
       "      <td>-1.946805e-15</td>\n",
       "      <td>-1.492754e-16</td>\n",
       "    </tr>\n",
       "    <tr>\n",
       "      <th>std</th>\n",
       "      <td>1.000018e+00</td>\n",
       "      <td>1.000018e+00</td>\n",
       "      <td>1.000018e+00</td>\n",
       "      <td>1.000018e+00</td>\n",
       "      <td>1.000018e+00</td>\n",
       "      <td>1.000018e+00</td>\n",
       "      <td>1.000018e+00</td>\n",
       "      <td>1.000018e+00</td>\n",
       "      <td>1.000018e+00</td>\n",
       "      <td>1.000018e+00</td>\n",
       "      <td>1.000018e+00</td>\n",
       "      <td>1.000018e+00</td>\n",
       "      <td>1.000018e+00</td>\n",
       "      <td>1.000018e+00</td>\n",
       "      <td>1.000018e+00</td>\n",
       "      <td>1.000018e+00</td>\n",
       "      <td>1.000018e+00</td>\n",
       "      <td>1.000018e+00</td>\n",
       "      <td>1.000018e+00</td>\n",
       "      <td>1.000018e+00</td>\n",
       "      <td>1.000018e+00</td>\n",
       "      <td>1.000018e+00</td>\n",
       "      <td>1.000018e+00</td>\n",
       "      <td>1.000018e+00</td>\n",
       "      <td>1.000018e+00</td>\n",
       "      <td>1.000018e+00</td>\n",
       "      <td>1.000018e+00</td>\n",
       "      <td>1.000018e+00</td>\n",
       "      <td>1.000018e+00</td>\n",
       "      <td>1.000018e+00</td>\n",
       "      <td>1.000018e+00</td>\n",
       "      <td>1.000018e+00</td>\n",
       "      <td>1.000018e+00</td>\n",
       "      <td>1.000018e+00</td>\n",
       "      <td>1.000018e+00</td>\n",
       "      <td>1.000018e+00</td>\n",
       "      <td>1.000018e+00</td>\n",
       "      <td>1.000018e+00</td>\n",
       "      <td>1.000018e+00</td>\n",
       "      <td>1.000018e+00</td>\n",
       "      <td>1.000018e+00</td>\n",
       "      <td>1.000018e+00</td>\n",
       "      <td>1.000018e+00</td>\n",
       "      <td>1.000018e+00</td>\n",
       "      <td>1.000018e+00</td>\n",
       "      <td>1.000018e+00</td>\n",
       "    </tr>\n",
       "    <tr>\n",
       "      <th>min</th>\n",
       "      <td>-2.339160e+00</td>\n",
       "      <td>-5.996954e-03</td>\n",
       "      <td>-1.098672e+00</td>\n",
       "      <td>-4.226846e-01</td>\n",
       "      <td>-1.139021e+00</td>\n",
       "      <td>-5.630340e-01</td>\n",
       "      <td>-3.379754e-01</td>\n",
       "      <td>-2.375868e+00</td>\n",
       "      <td>-2.500946e+00</td>\n",
       "      <td>-2.328901e+00</td>\n",
       "      <td>-1.810556e+00</td>\n",
       "      <td>-3.010540e+00</td>\n",
       "      <td>-5.478890e-01</td>\n",
       "      <td>-1.931416e-01</td>\n",
       "      <td>-1.601075e-01</td>\n",
       "      <td>-2.776346e-01</td>\n",
       "      <td>-1.814142e-01</td>\n",
       "      <td>-1.906232e-01</td>\n",
       "      <td>-3.290747e-01</td>\n",
       "      <td>-1.458248e-01</td>\n",
       "      <td>-4.484578e-01</td>\n",
       "      <td>-1.561651e-01</td>\n",
       "      <td>-1.240373e+00</td>\n",
       "      <td>-6.277294e-01</td>\n",
       "      <td>-2.448680e-01</td>\n",
       "      <td>-4.180648e-01</td>\n",
       "      <td>-5.497196e-01</td>\n",
       "      <td>-1.896710e-02</td>\n",
       "      <td>-3.837909e-01</td>\n",
       "      <td>-7.142710e-01</td>\n",
       "      <td>-7.720063e-01</td>\n",
       "      <td>-4.238659e-01</td>\n",
       "      <td>-6.185933e-02</td>\n",
       "      <td>-4.649067e-01</td>\n",
       "      <td>-3.880961e-01</td>\n",
       "      <td>-1.122483e-01</td>\n",
       "      <td>-7.254982e-01</td>\n",
       "      <td>-3.360108e-01</td>\n",
       "      <td>-7.866118e-02</td>\n",
       "      <td>-8.250399e-02</td>\n",
       "      <td>-5.109122e-01</td>\n",
       "      <td>-5.151626e-01</td>\n",
       "      <td>-4.897286e-01</td>\n",
       "      <td>-5.003146e-01</td>\n",
       "      <td>-2.600157e+00</td>\n",
       "      <td>-1.740938e-01</td>\n",
       "    </tr>\n",
       "    <tr>\n",
       "      <th>25%</th>\n",
       "      <td>-7.799157e-01</td>\n",
       "      <td>-5.996954e-03</td>\n",
       "      <td>-1.098672e+00</td>\n",
       "      <td>-4.226846e-01</td>\n",
       "      <td>-6.671650e-01</td>\n",
       "      <td>-5.630340e-01</td>\n",
       "      <td>-3.379754e-01</td>\n",
       "      <td>-1.310039e+00</td>\n",
       "      <td>-9.377337e-01</td>\n",
       "      <td>-4.536609e-01</td>\n",
       "      <td>-1.362815e+00</td>\n",
       "      <td>-1.043588e+00</td>\n",
       "      <td>-5.478890e-01</td>\n",
       "      <td>-1.931416e-01</td>\n",
       "      <td>-1.601075e-01</td>\n",
       "      <td>-2.776346e-01</td>\n",
       "      <td>-1.814142e-01</td>\n",
       "      <td>-1.906232e-01</td>\n",
       "      <td>-3.290747e-01</td>\n",
       "      <td>-1.458248e-01</td>\n",
       "      <td>-4.484578e-01</td>\n",
       "      <td>-1.561651e-01</td>\n",
       "      <td>-1.240373e+00</td>\n",
       "      <td>-6.277294e-01</td>\n",
       "      <td>-2.448680e-01</td>\n",
       "      <td>-4.180648e-01</td>\n",
       "      <td>-5.497196e-01</td>\n",
       "      <td>-1.896710e-02</td>\n",
       "      <td>-3.837909e-01</td>\n",
       "      <td>-7.142710e-01</td>\n",
       "      <td>-7.720063e-01</td>\n",
       "      <td>-4.238659e-01</td>\n",
       "      <td>-6.185933e-02</td>\n",
       "      <td>-4.649067e-01</td>\n",
       "      <td>-3.880961e-01</td>\n",
       "      <td>-1.122483e-01</td>\n",
       "      <td>-7.254982e-01</td>\n",
       "      <td>-3.360108e-01</td>\n",
       "      <td>-7.866118e-02</td>\n",
       "      <td>-8.250399e-02</td>\n",
       "      <td>-5.109122e-01</td>\n",
       "      <td>-5.151626e-01</td>\n",
       "      <td>-4.897286e-01</td>\n",
       "      <td>-5.003146e-01</td>\n",
       "      <td>3.845922e-01</td>\n",
       "      <td>-1.740938e-01</td>\n",
       "    </tr>\n",
       "    <tr>\n",
       "      <th>50%</th>\n",
       "      <td>-1.562179e-01</td>\n",
       "      <td>-5.996954e-03</td>\n",
       "      <td>9.101898e-01</td>\n",
       "      <td>-4.226846e-01</td>\n",
       "      <td>-3.121052e-01</td>\n",
       "      <td>-2.079195e-01</td>\n",
       "      <td>-3.379754e-01</td>\n",
       "      <td>6.217768e-01</td>\n",
       "      <td>5.700332e-01</td>\n",
       "      <td>-2.453009e-01</td>\n",
       "      <td>6.839143e-01</td>\n",
       "      <td>2.904558e-01</td>\n",
       "      <td>-5.478890e-01</td>\n",
       "      <td>-1.931416e-01</td>\n",
       "      <td>-1.601075e-01</td>\n",
       "      <td>-2.776346e-01</td>\n",
       "      <td>-1.814142e-01</td>\n",
       "      <td>-1.906232e-01</td>\n",
       "      <td>-3.290747e-01</td>\n",
       "      <td>-1.458248e-01</td>\n",
       "      <td>-4.484578e-01</td>\n",
       "      <td>-1.561651e-01</td>\n",
       "      <td>8.062092e-01</td>\n",
       "      <td>-6.277294e-01</td>\n",
       "      <td>-2.448680e-01</td>\n",
       "      <td>-4.180648e-01</td>\n",
       "      <td>-5.497196e-01</td>\n",
       "      <td>-1.896710e-02</td>\n",
       "      <td>-3.837909e-01</td>\n",
       "      <td>-7.142710e-01</td>\n",
       "      <td>-7.720063e-01</td>\n",
       "      <td>-4.238659e-01</td>\n",
       "      <td>-6.185933e-02</td>\n",
       "      <td>-4.649067e-01</td>\n",
       "      <td>-3.880961e-01</td>\n",
       "      <td>-1.122483e-01</td>\n",
       "      <td>-7.254982e-01</td>\n",
       "      <td>-3.360108e-01</td>\n",
       "      <td>-7.866118e-02</td>\n",
       "      <td>-8.250399e-02</td>\n",
       "      <td>-5.109122e-01</td>\n",
       "      <td>-5.151626e-01</td>\n",
       "      <td>-4.897286e-01</td>\n",
       "      <td>-5.003146e-01</td>\n",
       "      <td>3.845922e-01</td>\n",
       "      <td>-1.740938e-01</td>\n",
       "    </tr>\n",
       "    <tr>\n",
       "      <th>75%</th>\n",
       "      <td>7.793288e-01</td>\n",
       "      <td>-5.996954e-03</td>\n",
       "      <td>9.101898e-01</td>\n",
       "      <td>-4.226846e-01</td>\n",
       "      <td>3.185932e-01</td>\n",
       "      <td>1.471949e-01</td>\n",
       "      <td>-3.379754e-01</td>\n",
       "      <td>8.216198e-01</td>\n",
       "      <td>7.059647e-01</td>\n",
       "      <td>1.004859e+00</td>\n",
       "      <td>7.453457e-01</td>\n",
       "      <td>8.290087e-01</td>\n",
       "      <td>-5.478890e-01</td>\n",
       "      <td>-1.931416e-01</td>\n",
       "      <td>-1.601075e-01</td>\n",
       "      <td>-2.776346e-01</td>\n",
       "      <td>-1.814142e-01</td>\n",
       "      <td>-1.906232e-01</td>\n",
       "      <td>-3.290747e-01</td>\n",
       "      <td>-1.458248e-01</td>\n",
       "      <td>-4.484578e-01</td>\n",
       "      <td>-1.561651e-01</td>\n",
       "      <td>8.062092e-01</td>\n",
       "      <td>1.593043e+00</td>\n",
       "      <td>-2.448680e-01</td>\n",
       "      <td>-4.180648e-01</td>\n",
       "      <td>-5.497196e-01</td>\n",
       "      <td>-1.896710e-02</td>\n",
       "      <td>-3.837909e-01</td>\n",
       "      <td>1.400029e+00</td>\n",
       "      <td>1.295326e+00</td>\n",
       "      <td>-4.238659e-01</td>\n",
       "      <td>-6.185933e-02</td>\n",
       "      <td>-4.649067e-01</td>\n",
       "      <td>-3.880961e-01</td>\n",
       "      <td>-1.122483e-01</td>\n",
       "      <td>1.378363e+00</td>\n",
       "      <td>-3.360108e-01</td>\n",
       "      <td>-7.866118e-02</td>\n",
       "      <td>-8.250399e-02</td>\n",
       "      <td>-5.109122e-01</td>\n",
       "      <td>-5.151626e-01</td>\n",
       "      <td>-4.897286e-01</td>\n",
       "      <td>-5.003146e-01</td>\n",
       "      <td>3.845922e-01</td>\n",
       "      <td>-1.740938e-01</td>\n",
       "    </tr>\n",
       "    <tr>\n",
       "      <th>max</th>\n",
       "      <td>3.170170e+00</td>\n",
       "      <td>1.667513e+02</td>\n",
       "      <td>9.101898e-01</td>\n",
       "      <td>2.365830e+00</td>\n",
       "      <td>4.798888e+00</td>\n",
       "      <td>1.896826e+01</td>\n",
       "      <td>1.431382e+01</td>\n",
       "      <td>8.216198e-01</td>\n",
       "      <td>2.088531e+00</td>\n",
       "      <td>2.463380e+00</td>\n",
       "      <td>7.949634e-01</td>\n",
       "      <td>8.290087e-01</td>\n",
       "      <td>1.825187e+00</td>\n",
       "      <td>5.177548e+00</td>\n",
       "      <td>6.245804e+00</td>\n",
       "      <td>3.601856e+00</td>\n",
       "      <td>5.512248e+00</td>\n",
       "      <td>5.245951e+00</td>\n",
       "      <td>3.038824e+00</td>\n",
       "      <td>6.857544e+00</td>\n",
       "      <td>2.229864e+00</td>\n",
       "      <td>6.403478e+00</td>\n",
       "      <td>8.062092e-01</td>\n",
       "      <td>1.593043e+00</td>\n",
       "      <td>4.083832e+00</td>\n",
       "      <td>2.391974e+00</td>\n",
       "      <td>1.819109e+00</td>\n",
       "      <td>5.272286e+01</td>\n",
       "      <td>2.605585e+00</td>\n",
       "      <td>1.400029e+00</td>\n",
       "      <td>1.295326e+00</td>\n",
       "      <td>2.359237e+00</td>\n",
       "      <td>1.616571e+01</td>\n",
       "      <td>2.150969e+00</td>\n",
       "      <td>2.576681e+00</td>\n",
       "      <td>8.908819e+00</td>\n",
       "      <td>1.378363e+00</td>\n",
       "      <td>2.976095e+00</td>\n",
       "      <td>1.271275e+01</td>\n",
       "      <td>1.212063e+01</td>\n",
       "      <td>1.957284e+00</td>\n",
       "      <td>1.941135e+00</td>\n",
       "      <td>2.041947e+00</td>\n",
       "      <td>1.998742e+00</td>\n",
       "      <td>3.845922e-01</td>\n",
       "      <td>5.744031e+00</td>\n",
       "    </tr>\n",
       "  </tbody>\n",
       "</table>\n",
       "</div>"
      ],
      "text/plain": [
       "                age       default       housing          loan      duration      campaign      previous  emp.var.rate  cons.price.idx  cons.conf.idx     euribor3m   nr.employed  job_blue-collar  job_entrepreneur  job_housemaid  job_management   job_retired  job_self-employed  job_services   job_student  job_technician  job_unemployed  marital_married  marital_single  education_basic.6y  education_basic.9y  education_high.school  education_illiterate  education_professional.course  education_university.degree  contact_telephone     month_aug     month_dec     month_jul     month_jun     month_mar     month_may     month_nov     month_oct     month_sep  day_of_week_mon  day_of_week_thu  day_of_week_tue  day_of_week_wed  poutcome_nonexistent  poutcome_success\n",
       "count  2.780700e+04  2.780700e+04  2.780700e+04  2.780700e+04  2.780700e+04  2.780700e+04  2.780700e+04  2.780700e+04    2.780700e+04   2.780700e+04  2.780700e+04  2.780700e+04     2.780700e+04      2.780700e+04   2.780700e+04    2.780700e+04  2.780700e+04       2.780700e+04  2.780700e+04  2.780700e+04    2.780700e+04    2.780700e+04     2.780700e+04    2.780700e+04        2.780700e+04        2.780700e+04           2.780700e+04          2.780700e+04                   2.780700e+04                 2.780700e+04       2.780700e+04  2.780700e+04  2.780700e+04  2.780700e+04  2.780700e+04  2.780700e+04  2.780700e+04  2.780700e+04  2.780700e+04  2.780700e+04     2.780700e+04     2.780700e+04     2.780700e+04     2.780700e+04          2.780700e+04      2.780700e+04\n",
       "mean   1.124417e-17  2.280047e-15 -3.962259e-16 -1.200120e-15  3.343605e-17  8.217665e-16  7.760981e-16  5.160918e-16    2.522740e-15   1.264489e-15 -5.445112e-17  5.744397e-15     5.963591e-16      1.001808e-15  -3.382673e-16   -5.436807e-16 -1.027492e-15       1.499683e-15 -1.087170e-15  1.129643e-15    1.801183e-16   -3.927284e-16    -3.753925e-16   -5.902025e-16        1.638971e-15        1.717745e-15          -1.741525e-15          1.709827e-16                  -3.005911e-16                 7.347746e-16      -5.575270e-17 -9.576058e-16 -3.961455e-16  4.025821e-16  8.871763e-16  1.645735e-15 -9.669046e-16  1.775179e-15  4.274510e-16  1.082727e-15     1.574024e-15    -2.775570e-15    -1.752701e-15     6.503471e-16         -1.946805e-15     -1.492754e-16\n",
       "std    1.000018e+00  1.000018e+00  1.000018e+00  1.000018e+00  1.000018e+00  1.000018e+00  1.000018e+00  1.000018e+00    1.000018e+00   1.000018e+00  1.000018e+00  1.000018e+00     1.000018e+00      1.000018e+00   1.000018e+00    1.000018e+00  1.000018e+00       1.000018e+00  1.000018e+00  1.000018e+00    1.000018e+00    1.000018e+00     1.000018e+00    1.000018e+00        1.000018e+00        1.000018e+00           1.000018e+00          1.000018e+00                   1.000018e+00                 1.000018e+00       1.000018e+00  1.000018e+00  1.000018e+00  1.000018e+00  1.000018e+00  1.000018e+00  1.000018e+00  1.000018e+00  1.000018e+00  1.000018e+00     1.000018e+00     1.000018e+00     1.000018e+00     1.000018e+00          1.000018e+00      1.000018e+00\n",
       "min   -2.339160e+00 -5.996954e-03 -1.098672e+00 -4.226846e-01 -1.139021e+00 -5.630340e-01 -3.379754e-01 -2.375868e+00   -2.500946e+00  -2.328901e+00 -1.810556e+00 -3.010540e+00    -5.478890e-01     -1.931416e-01  -1.601075e-01   -2.776346e-01 -1.814142e-01      -1.906232e-01 -3.290747e-01 -1.458248e-01   -4.484578e-01   -1.561651e-01    -1.240373e+00   -6.277294e-01       -2.448680e-01       -4.180648e-01          -5.497196e-01         -1.896710e-02                  -3.837909e-01                -7.142710e-01      -7.720063e-01 -4.238659e-01 -6.185933e-02 -4.649067e-01 -3.880961e-01 -1.122483e-01 -7.254982e-01 -3.360108e-01 -7.866118e-02 -8.250399e-02    -5.109122e-01    -5.151626e-01    -4.897286e-01    -5.003146e-01         -2.600157e+00     -1.740938e-01\n",
       "25%   -7.799157e-01 -5.996954e-03 -1.098672e+00 -4.226846e-01 -6.671650e-01 -5.630340e-01 -3.379754e-01 -1.310039e+00   -9.377337e-01  -4.536609e-01 -1.362815e+00 -1.043588e+00    -5.478890e-01     -1.931416e-01  -1.601075e-01   -2.776346e-01 -1.814142e-01      -1.906232e-01 -3.290747e-01 -1.458248e-01   -4.484578e-01   -1.561651e-01    -1.240373e+00   -6.277294e-01       -2.448680e-01       -4.180648e-01          -5.497196e-01         -1.896710e-02                  -3.837909e-01                -7.142710e-01      -7.720063e-01 -4.238659e-01 -6.185933e-02 -4.649067e-01 -3.880961e-01 -1.122483e-01 -7.254982e-01 -3.360108e-01 -7.866118e-02 -8.250399e-02    -5.109122e-01    -5.151626e-01    -4.897286e-01    -5.003146e-01          3.845922e-01     -1.740938e-01\n",
       "50%   -1.562179e-01 -5.996954e-03  9.101898e-01 -4.226846e-01 -3.121052e-01 -2.079195e-01 -3.379754e-01  6.217768e-01    5.700332e-01  -2.453009e-01  6.839143e-01  2.904558e-01    -5.478890e-01     -1.931416e-01  -1.601075e-01   -2.776346e-01 -1.814142e-01      -1.906232e-01 -3.290747e-01 -1.458248e-01   -4.484578e-01   -1.561651e-01     8.062092e-01   -6.277294e-01       -2.448680e-01       -4.180648e-01          -5.497196e-01         -1.896710e-02                  -3.837909e-01                -7.142710e-01      -7.720063e-01 -4.238659e-01 -6.185933e-02 -4.649067e-01 -3.880961e-01 -1.122483e-01 -7.254982e-01 -3.360108e-01 -7.866118e-02 -8.250399e-02    -5.109122e-01    -5.151626e-01    -4.897286e-01    -5.003146e-01          3.845922e-01     -1.740938e-01\n",
       "75%    7.793288e-01 -5.996954e-03  9.101898e-01 -4.226846e-01  3.185932e-01  1.471949e-01 -3.379754e-01  8.216198e-01    7.059647e-01   1.004859e+00  7.453457e-01  8.290087e-01    -5.478890e-01     -1.931416e-01  -1.601075e-01   -2.776346e-01 -1.814142e-01      -1.906232e-01 -3.290747e-01 -1.458248e-01   -4.484578e-01   -1.561651e-01     8.062092e-01    1.593043e+00       -2.448680e-01       -4.180648e-01          -5.497196e-01         -1.896710e-02                  -3.837909e-01                 1.400029e+00       1.295326e+00 -4.238659e-01 -6.185933e-02 -4.649067e-01 -3.880961e-01 -1.122483e-01  1.378363e+00 -3.360108e-01 -7.866118e-02 -8.250399e-02    -5.109122e-01    -5.151626e-01    -4.897286e-01    -5.003146e-01          3.845922e-01     -1.740938e-01\n",
       "max    3.170170e+00  1.667513e+02  9.101898e-01  2.365830e+00  4.798888e+00  1.896826e+01  1.431382e+01  8.216198e-01    2.088531e+00   2.463380e+00  7.949634e-01  8.290087e-01     1.825187e+00      5.177548e+00   6.245804e+00    3.601856e+00  5.512248e+00       5.245951e+00  3.038824e+00  6.857544e+00    2.229864e+00    6.403478e+00     8.062092e-01    1.593043e+00        4.083832e+00        2.391974e+00           1.819109e+00          5.272286e+01                   2.605585e+00                 1.400029e+00       1.295326e+00  2.359237e+00  1.616571e+01  2.150969e+00  2.576681e+00  8.908819e+00  1.378363e+00  2.976095e+00  1.271275e+01  1.212063e+01     1.957284e+00     1.941135e+00     2.041947e+00     1.998742e+00          3.845922e-01      5.744031e+00"
      ]
     },
     "execution_count": 38,
     "metadata": {},
     "output_type": "execute_result"
    }
   ],
   "source": [
    "X_train .describe()"
   ]
  },
  {
   "cell_type": "markdown",
   "metadata": {},
   "source": [
    "## Step 5: Building the model"
   ]
  },
  {
   "cell_type": "code",
   "execution_count": 39,
   "metadata": {},
   "outputs": [
    {
     "data": {
      "text/html": [
       "<table class=\"simpletable\">\n",
       "<caption>Generalized Linear Model Regression Results</caption>\n",
       "<tr>\n",
       "  <th>Dep. Variable:</th>     <td>subscription</td>   <th>  No. Observations:  </th>  <td> 27807</td> \n",
       "</tr>\n",
       "<tr>\n",
       "  <th>Model:</th>                  <td>GLM</td>       <th>  Df Residuals:      </th>  <td> 27760</td> \n",
       "</tr>\n",
       "<tr>\n",
       "  <th>Model Family:</th>        <td>Binomial</td>     <th>  Df Model:          </th>  <td>    46</td> \n",
       "</tr>\n",
       "<tr>\n",
       "  <th>Link Function:</th>         <td>logit</td>      <th>  Scale:             </th> <td>  1.0000</td>\n",
       "</tr>\n",
       "<tr>\n",
       "  <th>Method:</th>                <td>IRLS</td>       <th>  Log-Likelihood:    </th> <td> -4986.2</td>\n",
       "</tr>\n",
       "<tr>\n",
       "  <th>Date:</th>            <td>Mon, 14 Jun 2021</td> <th>  Deviance:          </th> <td>  9972.4</td>\n",
       "</tr>\n",
       "<tr>\n",
       "  <th>Time:</th>                <td>14:39:51</td>     <th>  Pearson chi2:      </th> <td>1.80e+04</td>\n",
       "</tr>\n",
       "<tr>\n",
       "  <th>No. Iterations:</th>         <td>19</td>        <th>                     </th>     <td> </td>   \n",
       "</tr>\n",
       "<tr>\n",
       "  <th>Covariance Type:</th>     <td>nonrobust</td>    <th>                     </th>     <td> </td>   \n",
       "</tr>\n",
       "</table>\n",
       "<table class=\"simpletable\">\n",
       "<tr>\n",
       "                <td></td>                   <th>coef</th>     <th>std err</th>      <th>z</th>      <th>P>|z|</th>  <th>[0.025</th>    <th>0.975]</th>  \n",
       "</tr>\n",
       "<tr>\n",
       "  <th>const</th>                         <td>   -3.5330</td> <td>    0.639</td> <td>   -5.527</td> <td> 0.000</td> <td>   -4.786</td> <td>   -2.280</td>\n",
       "</tr>\n",
       "<tr>\n",
       "  <th>age</th>                           <td>   -0.0202</td> <td>    0.032</td> <td>   -0.635</td> <td> 0.525</td> <td>   -0.082</td> <td>    0.042</td>\n",
       "</tr>\n",
       "<tr>\n",
       "  <th>default</th>                       <td>   -0.0964</td> <td>  106.324</td> <td>   -0.001</td> <td> 0.999</td> <td> -208.488</td> <td>  208.296</td>\n",
       "</tr>\n",
       "<tr>\n",
       "  <th>housing</th>                       <td>    0.0142</td> <td>    0.027</td> <td>    0.529</td> <td> 0.597</td> <td>   -0.038</td> <td>    0.067</td>\n",
       "</tr>\n",
       "<tr>\n",
       "  <th>loan</th>                          <td>    0.0196</td> <td>    0.027</td> <td>    0.740</td> <td> 0.459</td> <td>   -0.032</td> <td>    0.072</td>\n",
       "</tr>\n",
       "<tr>\n",
       "  <th>duration</th>                      <td>    1.2627</td> <td>    0.023</td> <td>   53.846</td> <td> 0.000</td> <td>    1.217</td> <td>    1.309</td>\n",
       "</tr>\n",
       "<tr>\n",
       "  <th>campaign</th>                      <td>   -0.1311</td> <td>    0.043</td> <td>   -3.031</td> <td> 0.002</td> <td>   -0.216</td> <td>   -0.046</td>\n",
       "</tr>\n",
       "<tr>\n",
       "  <th>previous</th>                      <td>    0.0001</td> <td>    0.035</td> <td>    0.004</td> <td> 0.997</td> <td>   -0.068</td> <td>    0.068</td>\n",
       "</tr>\n",
       "<tr>\n",
       "  <th>emp.var.rate</th>                  <td>   -2.9106</td> <td>    0.275</td> <td>  -10.573</td> <td> 0.000</td> <td>   -3.450</td> <td>   -2.371</td>\n",
       "</tr>\n",
       "<tr>\n",
       "  <th>cons.price.idx</th>                <td>    1.1161</td> <td>    0.179</td> <td>    6.250</td> <td> 0.000</td> <td>    0.766</td> <td>    1.466</td>\n",
       "</tr>\n",
       "<tr>\n",
       "  <th>cons.conf.idx</th>                 <td>    0.1055</td> <td>    0.047</td> <td>    2.243</td> <td> 0.025</td> <td>    0.013</td> <td>    0.198</td>\n",
       "</tr>\n",
       "<tr>\n",
       "  <th>euribor3m</th>                     <td>    0.9442</td> <td>    0.290</td> <td>    3.254</td> <td> 0.001</td> <td>    0.375</td> <td>    1.513</td>\n",
       "</tr>\n",
       "<tr>\n",
       "  <th>nr.employed</th>                   <td>    0.1975</td> <td>    0.272</td> <td>    0.727</td> <td> 0.468</td> <td>   -0.335</td> <td>    0.730</td>\n",
       "</tr>\n",
       "<tr>\n",
       "  <th>job_blue-collar</th>               <td>   -0.1190</td> <td>    0.043</td> <td>   -2.792</td> <td> 0.005</td> <td>   -0.203</td> <td>   -0.035</td>\n",
       "</tr>\n",
       "<tr>\n",
       "  <th>job_entrepreneur</th>              <td>   -0.0468</td> <td>    0.031</td> <td>   -1.513</td> <td> 0.130</td> <td>   -0.107</td> <td>    0.014</td>\n",
       "</tr>\n",
       "<tr>\n",
       "  <th>job_housemaid</th>                 <td>   -0.0299</td> <td>    0.033</td> <td>   -0.912</td> <td> 0.362</td> <td>   -0.094</td> <td>    0.034</td>\n",
       "</tr>\n",
       "<tr>\n",
       "  <th>job_management</th>                <td>   -0.0218</td> <td>    0.029</td> <td>   -0.760</td> <td> 0.447</td> <td>   -0.078</td> <td>    0.034</td>\n",
       "</tr>\n",
       "<tr>\n",
       "  <th>job_retired</th>                   <td>    0.0150</td> <td>    0.027</td> <td>    0.555</td> <td> 0.579</td> <td>   -0.038</td> <td>    0.068</td>\n",
       "</tr>\n",
       "<tr>\n",
       "  <th>job_self-employed</th>             <td>   -0.0311</td> <td>    0.028</td> <td>   -1.116</td> <td> 0.264</td> <td>   -0.086</td> <td>    0.024</td>\n",
       "</tr>\n",
       "<tr>\n",
       "  <th>job_services</th>                  <td>   -0.0565</td> <td>    0.032</td> <td>   -1.741</td> <td> 0.082</td> <td>   -0.120</td> <td>    0.007</td>\n",
       "</tr>\n",
       "<tr>\n",
       "  <th>job_student</th>                   <td>    0.0164</td> <td>    0.020</td> <td>    0.835</td> <td> 0.404</td> <td>   -0.022</td> <td>    0.055</td>\n",
       "</tr>\n",
       "<tr>\n",
       "  <th>job_technician</th>                <td>   -0.0114</td> <td>    0.034</td> <td>   -0.338</td> <td> 0.736</td> <td>   -0.078</td> <td>    0.055</td>\n",
       "</tr>\n",
       "<tr>\n",
       "  <th>job_unemployed</th>                <td>    0.0156</td> <td>    0.025</td> <td>    0.615</td> <td> 0.539</td> <td>   -0.034</td> <td>    0.065</td>\n",
       "</tr>\n",
       "<tr>\n",
       "  <th>marital_married</th>               <td>   -0.0075</td> <td>    0.045</td> <td>   -0.166</td> <td> 0.868</td> <td>   -0.096</td> <td>    0.081</td>\n",
       "</tr>\n",
       "<tr>\n",
       "  <th>marital_single</th>                <td>    0.0159</td> <td>    0.047</td> <td>    0.340</td> <td> 0.734</td> <td>   -0.076</td> <td>    0.107</td>\n",
       "</tr>\n",
       "<tr>\n",
       "  <th>education_basic.6y</th>            <td>    0.0543</td> <td>    0.038</td> <td>    1.444</td> <td> 0.149</td> <td>   -0.019</td> <td>    0.128</td>\n",
       "</tr>\n",
       "<tr>\n",
       "  <th>education_basic.9y</th>            <td>    0.0586</td> <td>    0.046</td> <td>    1.263</td> <td> 0.206</td> <td>   -0.032</td> <td>    0.150</td>\n",
       "</tr>\n",
       "<tr>\n",
       "  <th>education_high.school</th>         <td>    0.0986</td> <td>    0.054</td> <td>    1.820</td> <td> 0.069</td> <td>   -0.008</td> <td>    0.205</td>\n",
       "</tr>\n",
       "<tr>\n",
       "  <th>education_illiterate</th>          <td>   -0.0019</td> <td>    0.026</td> <td>   -0.075</td> <td> 0.940</td> <td>   -0.053</td> <td>    0.049</td>\n",
       "</tr>\n",
       "<tr>\n",
       "  <th>education_professional.course</th> <td>    0.0890</td> <td>    0.047</td> <td>    1.892</td> <td> 0.058</td> <td>   -0.003</td> <td>    0.181</td>\n",
       "</tr>\n",
       "<tr>\n",
       "  <th>education_university.degree</th>   <td>    0.1506</td> <td>    0.059</td> <td>    2.532</td> <td> 0.011</td> <td>    0.034</td> <td>    0.267</td>\n",
       "</tr>\n",
       "<tr>\n",
       "  <th>contact_telephone</th>             <td>   -0.3026</td> <td>    0.049</td> <td>   -6.127</td> <td> 0.000</td> <td>   -0.399</td> <td>   -0.206</td>\n",
       "</tr>\n",
       "<tr>\n",
       "  <th>month_aug</th>                     <td>    0.3381</td> <td>    0.059</td> <td>    5.776</td> <td> 0.000</td> <td>    0.223</td> <td>    0.453</td>\n",
       "</tr>\n",
       "<tr>\n",
       "  <th>month_dec</th>                     <td>    0.0050</td> <td>    0.017</td> <td>    0.285</td> <td> 0.776</td> <td>   -0.029</td> <td>    0.039</td>\n",
       "</tr>\n",
       "<tr>\n",
       "  <th>month_jul</th>                     <td>    0.0746</td> <td>    0.048</td> <td>    1.565</td> <td> 0.118</td> <td>   -0.019</td> <td>    0.168</td>\n",
       "</tr>\n",
       "<tr>\n",
       "  <th>month_jun</th>                     <td>   -0.1367</td> <td>    0.054</td> <td>   -2.544</td> <td> 0.011</td> <td>   -0.242</td> <td>   -0.031</td>\n",
       "</tr>\n",
       "<tr>\n",
       "  <th>month_mar</th>                     <td>    0.2508</td> <td>    0.020</td> <td>   12.302</td> <td> 0.000</td> <td>    0.211</td> <td>    0.291</td>\n",
       "</tr>\n",
       "<tr>\n",
       "  <th>month_may</th>                     <td>   -0.2268</td> <td>    0.051</td> <td>   -4.456</td> <td> 0.000</td> <td>   -0.327</td> <td>   -0.127</td>\n",
       "</tr>\n",
       "<tr>\n",
       "  <th>month_nov</th>                     <td>   -0.1632</td> <td>    0.048</td> <td>   -3.424</td> <td> 0.001</td> <td>   -0.257</td> <td>   -0.070</td>\n",
       "</tr>\n",
       "<tr>\n",
       "  <th>month_oct</th>                     <td>    0.0890</td> <td>    0.020</td> <td>    4.458</td> <td> 0.000</td> <td>    0.050</td> <td>    0.128</td>\n",
       "</tr>\n",
       "<tr>\n",
       "  <th>month_sep</th>                     <td>    0.0906</td> <td>    0.022</td> <td>    4.077</td> <td> 0.000</td> <td>    0.047</td> <td>    0.134</td>\n",
       "</tr>\n",
       "<tr>\n",
       "  <th>day_of_week_mon</th>               <td>   -0.0230</td> <td>    0.035</td> <td>   -0.654</td> <td> 0.513</td> <td>   -0.092</td> <td>    0.046</td>\n",
       "</tr>\n",
       "<tr>\n",
       "  <th>day_of_week_thu</th>               <td>    0.0347</td> <td>    0.034</td> <td>    1.010</td> <td> 0.313</td> <td>   -0.033</td> <td>    0.102</td>\n",
       "</tr>\n",
       "<tr>\n",
       "  <th>day_of_week_tue</th>               <td>    0.0399</td> <td>    0.035</td> <td>    1.153</td> <td> 0.249</td> <td>   -0.028</td> <td>    0.108</td>\n",
       "</tr>\n",
       "<tr>\n",
       "  <th>day_of_week_wed</th>               <td>    0.0892</td> <td>    0.035</td> <td>    2.571</td> <td> 0.010</td> <td>    0.021</td> <td>    0.157</td>\n",
       "</tr>\n",
       "<tr>\n",
       "  <th>poutcome_nonexistent</th>          <td>    0.1563</td> <td>    0.041</td> <td>    3.809</td> <td> 0.000</td> <td>    0.076</td> <td>    0.237</td>\n",
       "</tr>\n",
       "<tr>\n",
       "  <th>poutcome_success</th>              <td>    0.3041</td> <td>    0.020</td> <td>   15.546</td> <td> 0.000</td> <td>    0.266</td> <td>    0.342</td>\n",
       "</tr>\n",
       "</table>"
      ],
      "text/plain": [
       "<class 'statsmodels.iolib.summary.Summary'>\n",
       "\"\"\"\n",
       "                 Generalized Linear Model Regression Results                  \n",
       "==============================================================================\n",
       "Dep. Variable:           subscription   No. Observations:                27807\n",
       "Model:                            GLM   Df Residuals:                    27760\n",
       "Model Family:                Binomial   Df Model:                           46\n",
       "Link Function:                  logit   Scale:                          1.0000\n",
       "Method:                          IRLS   Log-Likelihood:                -4986.2\n",
       "Date:                Mon, 14 Jun 2021   Deviance:                       9972.4\n",
       "Time:                        14:39:51   Pearson chi2:                 1.80e+04\n",
       "No. Iterations:                    19                                         \n",
       "Covariance Type:            nonrobust                                         \n",
       "=================================================================================================\n",
       "                                    coef    std err          z      P>|z|      [0.025      0.975]\n",
       "-------------------------------------------------------------------------------------------------\n",
       "const                            -3.5330      0.639     -5.527      0.000      -4.786      -2.280\n",
       "age                              -0.0202      0.032     -0.635      0.525      -0.082       0.042\n",
       "default                          -0.0964    106.324     -0.001      0.999    -208.488     208.296\n",
       "housing                           0.0142      0.027      0.529      0.597      -0.038       0.067\n",
       "loan                              0.0196      0.027      0.740      0.459      -0.032       0.072\n",
       "duration                          1.2627      0.023     53.846      0.000       1.217       1.309\n",
       "campaign                         -0.1311      0.043     -3.031      0.002      -0.216      -0.046\n",
       "previous                          0.0001      0.035      0.004      0.997      -0.068       0.068\n",
       "emp.var.rate                     -2.9106      0.275    -10.573      0.000      -3.450      -2.371\n",
       "cons.price.idx                    1.1161      0.179      6.250      0.000       0.766       1.466\n",
       "cons.conf.idx                     0.1055      0.047      2.243      0.025       0.013       0.198\n",
       "euribor3m                         0.9442      0.290      3.254      0.001       0.375       1.513\n",
       "nr.employed                       0.1975      0.272      0.727      0.468      -0.335       0.730\n",
       "job_blue-collar                  -0.1190      0.043     -2.792      0.005      -0.203      -0.035\n",
       "job_entrepreneur                 -0.0468      0.031     -1.513      0.130      -0.107       0.014\n",
       "job_housemaid                    -0.0299      0.033     -0.912      0.362      -0.094       0.034\n",
       "job_management                   -0.0218      0.029     -0.760      0.447      -0.078       0.034\n",
       "job_retired                       0.0150      0.027      0.555      0.579      -0.038       0.068\n",
       "job_self-employed                -0.0311      0.028     -1.116      0.264      -0.086       0.024\n",
       "job_services                     -0.0565      0.032     -1.741      0.082      -0.120       0.007\n",
       "job_student                       0.0164      0.020      0.835      0.404      -0.022       0.055\n",
       "job_technician                   -0.0114      0.034     -0.338      0.736      -0.078       0.055\n",
       "job_unemployed                    0.0156      0.025      0.615      0.539      -0.034       0.065\n",
       "marital_married                  -0.0075      0.045     -0.166      0.868      -0.096       0.081\n",
       "marital_single                    0.0159      0.047      0.340      0.734      -0.076       0.107\n",
       "education_basic.6y                0.0543      0.038      1.444      0.149      -0.019       0.128\n",
       "education_basic.9y                0.0586      0.046      1.263      0.206      -0.032       0.150\n",
       "education_high.school             0.0986      0.054      1.820      0.069      -0.008       0.205\n",
       "education_illiterate             -0.0019      0.026     -0.075      0.940      -0.053       0.049\n",
       "education_professional.course     0.0890      0.047      1.892      0.058      -0.003       0.181\n",
       "education_university.degree       0.1506      0.059      2.532      0.011       0.034       0.267\n",
       "contact_telephone                -0.3026      0.049     -6.127      0.000      -0.399      -0.206\n",
       "month_aug                         0.3381      0.059      5.776      0.000       0.223       0.453\n",
       "month_dec                         0.0050      0.017      0.285      0.776      -0.029       0.039\n",
       "month_jul                         0.0746      0.048      1.565      0.118      -0.019       0.168\n",
       "month_jun                        -0.1367      0.054     -2.544      0.011      -0.242      -0.031\n",
       "month_mar                         0.2508      0.020     12.302      0.000       0.211       0.291\n",
       "month_may                        -0.2268      0.051     -4.456      0.000      -0.327      -0.127\n",
       "month_nov                        -0.1632      0.048     -3.424      0.001      -0.257      -0.070\n",
       "month_oct                         0.0890      0.020      4.458      0.000       0.050       0.128\n",
       "month_sep                         0.0906      0.022      4.077      0.000       0.047       0.134\n",
       "day_of_week_mon                  -0.0230      0.035     -0.654      0.513      -0.092       0.046\n",
       "day_of_week_thu                   0.0347      0.034      1.010      0.313      -0.033       0.102\n",
       "day_of_week_tue                   0.0399      0.035      1.153      0.249      -0.028       0.108\n",
       "day_of_week_wed                   0.0892      0.035      2.571      0.010       0.021       0.157\n",
       "poutcome_nonexistent              0.1563      0.041      3.809      0.000       0.076       0.237\n",
       "poutcome_success                  0.3041      0.020     15.546      0.000       0.266       0.342\n",
       "=================================================================================================\n",
       "\"\"\""
      ]
     },
     "execution_count": 39,
     "metadata": {},
     "output_type": "execute_result"
    }
   ],
   "source": [
    "logm1 = sm.GLM(y_train,(sm.add_constant(X_train)), family = sm.families.Binomial())\n",
    "logm1.fit().summary()"
   ]
  },
  {
   "cell_type": "code",
   "execution_count": 40,
   "metadata": {},
   "outputs": [],
   "source": [
    "#### Running RFE with the output number of the variable equal to 18\n",
    "logreg = LogisticRegression()\n",
    "rfe = RFE(logreg, 15)          \n",
    "rfe = rfe.fit(X_train, y_train)"
   ]
  },
  {
   "cell_type": "code",
   "execution_count": 41,
   "metadata": {},
   "outputs": [],
   "source": [
    "X_train_rfe = X_train[X_train.columns[rfe.support_]]"
   ]
  },
  {
   "cell_type": "code",
   "execution_count": 42,
   "metadata": {},
   "outputs": [],
   "source": [
    "def build_model(X,y):\n",
    "    X = sm.add_constant(X)\n",
    "    logm2 = sm.GLM(y,X, family = sm.families.Binomial())\n",
    "    res = logm2.fit()\n",
    "    print(res.summary())\n",
    "    return X\n",
    "\n",
    "def checkVIF(dataset):\n",
    "    col=['const']\n",
    "    dataset = dataset.drop([x for x in col if x in dataset.columns], axis=1)\n",
    "    vif = pd.DataFrame()\n",
    "    vif['Features'] = dataset.columns\n",
    "    vif['VIF'] = [variance_inflation_factor(dataset.values, i) for i in range(dataset.shape[1])]\n",
    "    vif['VIF'] = round(vif['VIF'], 2)\n",
    "    vif = vif.sort_values(by = \"VIF\", ascending = False)\n",
    "    return(vif)"
   ]
  },
  {
   "cell_type": "code",
   "execution_count": 43,
   "metadata": {},
   "outputs": [
    {
     "name": "stdout",
     "output_type": "stream",
     "text": [
      "                 Generalized Linear Model Regression Results                  \n",
      "==============================================================================\n",
      "Dep. Variable:           subscription   No. Observations:                27807\n",
      "Model:                            GLM   Df Residuals:                    27791\n",
      "Model Family:                Binomial   Df Model:                           15\n",
      "Link Function:                  logit   Scale:                          1.0000\n",
      "Method:                          IRLS   Log-Likelihood:                -5025.9\n",
      "Date:                Mon, 14 Jun 2021   Deviance:                       10052.\n",
      "Time:                        14:39:59   Pearson chi2:                 1.81e+04\n",
      "No. Iterations:                     7                                         \n",
      "Covariance Type:            nonrobust                                         \n",
      "========================================================================================\n",
      "                           coef    std err          z      P>|z|      [0.025      0.975]\n",
      "----------------------------------------------------------------------------------------\n",
      "const                   -3.5074      0.044    -80.029      0.000      -3.593      -3.422\n",
      "duration                 1.2523      0.023     53.922      0.000       1.207       1.298\n",
      "campaign                -0.1422      0.043     -3.301      0.001      -0.227      -0.058\n",
      "emp.var.rate            -2.8388      0.208    -13.665      0.000      -3.246      -2.432\n",
      "cons.price.idx           1.1184      0.072     15.601      0.000       0.978       1.259\n",
      "cons.conf.idx            0.1079      0.030      3.607      0.000       0.049       0.166\n",
      "euribor3m                1.0718      0.176      6.078      0.000       0.726       1.417\n",
      "job_blue-collar         -0.1485      0.031     -4.818      0.000      -0.209      -0.088\n",
      "contact_telephone       -0.3247      0.045     -7.286      0.000      -0.412      -0.237\n",
      "month_aug                0.2819      0.042      6.773      0.000       0.200       0.364\n",
      "month_jun               -0.1941      0.037     -5.247      0.000      -0.267      -0.122\n",
      "month_mar                0.2254      0.016     14.505      0.000       0.195       0.256\n",
      "month_may               -0.3126      0.038     -8.216      0.000      -0.387      -0.238\n",
      "month_nov               -0.2255      0.034     -6.591      0.000      -0.293      -0.158\n",
      "poutcome_nonexistent     0.1568      0.028      5.667      0.000       0.103       0.211\n",
      "poutcome_success         0.3074      0.019     16.022      0.000       0.270       0.345\n",
      "========================================================================================\n"
     ]
    }
   ],
   "source": [
    "X_train_model = build_model(X_train_rfe,y_train)"
   ]
  },
  {
   "cell_type": "code",
   "execution_count": 44,
   "metadata": {},
   "outputs": [
    {
     "data": {
      "text/html": [
       "<div>\n",
       "<style scoped>\n",
       "    .dataframe tbody tr th:only-of-type {\n",
       "        vertical-align: middle;\n",
       "    }\n",
       "\n",
       "    .dataframe tbody tr th {\n",
       "        vertical-align: top;\n",
       "    }\n",
       "\n",
       "    .dataframe thead th {\n",
       "        text-align: right;\n",
       "    }\n",
       "</style>\n",
       "<table border=\"1\" class=\"dataframe\">\n",
       "  <thead>\n",
       "    <tr style=\"text-align: right;\">\n",
       "      <th></th>\n",
       "      <th>Features</th>\n",
       "      <th>VIF</th>\n",
       "    </tr>\n",
       "  </thead>\n",
       "  <tbody>\n",
       "    <tr>\n",
       "      <th>2</th>\n",
       "      <td>emp.var.rate</td>\n",
       "      <td>130.64</td>\n",
       "    </tr>\n",
       "    <tr>\n",
       "      <th>5</th>\n",
       "      <td>euribor3m</td>\n",
       "      <td>94.14</td>\n",
       "    </tr>\n",
       "    <tr>\n",
       "      <th>3</th>\n",
       "      <td>cons.price.idx</td>\n",
       "      <td>15.50</td>\n",
       "    </tr>\n",
       "    <tr>\n",
       "      <th>8</th>\n",
       "      <td>month_aug</td>\n",
       "      <td>5.31</td>\n",
       "    </tr>\n",
       "    <tr>\n",
       "      <th>4</th>\n",
       "      <td>cons.conf.idx</td>\n",
       "      <td>3.69</td>\n",
       "    </tr>\n",
       "    <tr>\n",
       "      <th>7</th>\n",
       "      <td>contact_telephone</td>\n",
       "      <td>3.19</td>\n",
       "    </tr>\n",
       "    <tr>\n",
       "      <th>9</th>\n",
       "      <td>month_jun</td>\n",
       "      <td>2.52</td>\n",
       "    </tr>\n",
       "    <tr>\n",
       "      <th>11</th>\n",
       "      <td>month_may</td>\n",
       "      <td>2.52</td>\n",
       "    </tr>\n",
       "    <tr>\n",
       "      <th>12</th>\n",
       "      <td>month_nov</td>\n",
       "      <td>2.09</td>\n",
       "    </tr>\n",
       "    <tr>\n",
       "      <th>13</th>\n",
       "      <td>poutcome_nonexistent</td>\n",
       "      <td>1.57</td>\n",
       "    </tr>\n",
       "    <tr>\n",
       "      <th>14</th>\n",
       "      <td>poutcome_success</td>\n",
       "      <td>1.43</td>\n",
       "    </tr>\n",
       "    <tr>\n",
       "      <th>10</th>\n",
       "      <td>month_mar</td>\n",
       "      <td>1.14</td>\n",
       "    </tr>\n",
       "    <tr>\n",
       "      <th>1</th>\n",
       "      <td>campaign</td>\n",
       "      <td>1.04</td>\n",
       "    </tr>\n",
       "    <tr>\n",
       "      <th>6</th>\n",
       "      <td>job_blue-collar</td>\n",
       "      <td>1.04</td>\n",
       "    </tr>\n",
       "    <tr>\n",
       "      <th>0</th>\n",
       "      <td>duration</td>\n",
       "      <td>1.02</td>\n",
       "    </tr>\n",
       "  </tbody>\n",
       "</table>\n",
       "</div>"
      ],
      "text/plain": [
       "                Features     VIF\n",
       "2           emp.var.rate  130.64\n",
       "5              euribor3m   94.14\n",
       "3         cons.price.idx   15.50\n",
       "8              month_aug    5.31\n",
       "4          cons.conf.idx    3.69\n",
       "7      contact_telephone    3.19\n",
       "9              month_jun    2.52\n",
       "11             month_may    2.52\n",
       "12             month_nov    2.09\n",
       "13  poutcome_nonexistent    1.57\n",
       "14      poutcome_success    1.43\n",
       "10             month_mar    1.14\n",
       "1               campaign    1.04\n",
       "6        job_blue-collar    1.04\n",
       "0               duration    1.02"
      ]
     },
     "execution_count": 44,
     "metadata": {},
     "output_type": "execute_result"
    }
   ],
   "source": [
    "checkVIF(X_train_model)"
   ]
  },
  {
   "cell_type": "code",
   "execution_count": 45,
   "metadata": {},
   "outputs": [],
   "source": [
    "X_train_model = X_train_model.drop([\"emp.var.rate\"], axis = 1)"
   ]
  },
  {
   "cell_type": "code",
   "execution_count": 46,
   "metadata": {},
   "outputs": [
    {
     "name": "stdout",
     "output_type": "stream",
     "text": [
      "                 Generalized Linear Model Regression Results                  \n",
      "==============================================================================\n",
      "Dep. Variable:           subscription   No. Observations:                27807\n",
      "Model:                            GLM   Df Residuals:                    27792\n",
      "Model Family:                Binomial   Df Model:                           14\n",
      "Link Function:                  logit   Scale:                          1.0000\n",
      "Method:                          IRLS   Log-Likelihood:                -5117.6\n",
      "Date:                Mon, 14 Jun 2021   Deviance:                       10235.\n",
      "Time:                        14:40:00   Pearson chi2:                 1.90e+04\n",
      "No. Iterations:                     7                                         \n",
      "Covariance Type:            nonrobust                                         \n",
      "========================================================================================\n",
      "                           coef    std err          z      P>|z|      [0.025      0.975]\n",
      "----------------------------------------------------------------------------------------\n",
      "const                   -3.4775      0.043    -80.169      0.000      -3.562      -3.392\n",
      "duration                 1.2336      0.023     53.815      0.000       1.189       1.279\n",
      "campaign                -0.1664      0.043     -3.865      0.000      -0.251      -0.082\n",
      "cons.price.idx           0.2554      0.033      7.775      0.000       0.191       0.320\n",
      "cons.conf.idx            0.2618      0.028      9.349      0.000       0.207       0.317\n",
      "euribor3m               -1.2937      0.037    -34.656      0.000      -1.367      -1.221\n",
      "job_blue-collar         -0.1688      0.031     -5.500      0.000      -0.229      -0.109\n",
      "contact_telephone       -0.1931      0.042     -4.547      0.000      -0.276      -0.110\n",
      "month_aug                0.0371      0.037      1.009      0.313      -0.035       0.109\n",
      "month_jun                0.0872      0.031      2.812      0.005       0.026       0.148\n",
      "month_mar                0.1664      0.016     10.449      0.000       0.135       0.198\n",
      "month_may               -0.4477      0.036    -12.326      0.000      -0.519      -0.376\n",
      "month_nov               -0.0360      0.031     -1.157      0.247      -0.097       0.025\n",
      "poutcome_nonexistent     0.1628      0.027      5.934      0.000       0.109       0.217\n",
      "poutcome_success         0.3121      0.019     16.381      0.000       0.275       0.349\n",
      "========================================================================================\n"
     ]
    }
   ],
   "source": [
    "X_train_model = build_model(X_train_model,y_train)"
   ]
  },
  {
   "cell_type": "code",
   "execution_count": 47,
   "metadata": {},
   "outputs": [
    {
     "data": {
      "text/html": [
       "<div>\n",
       "<style scoped>\n",
       "    .dataframe tbody tr th:only-of-type {\n",
       "        vertical-align: middle;\n",
       "    }\n",
       "\n",
       "    .dataframe tbody tr th {\n",
       "        vertical-align: top;\n",
       "    }\n",
       "\n",
       "    .dataframe thead th {\n",
       "        text-align: right;\n",
       "    }\n",
       "</style>\n",
       "<table border=\"1\" class=\"dataframe\">\n",
       "  <thead>\n",
       "    <tr style=\"text-align: right;\">\n",
       "      <th></th>\n",
       "      <th>Features</th>\n",
       "      <th>VIF</th>\n",
       "    </tr>\n",
       "  </thead>\n",
       "  <tbody>\n",
       "    <tr>\n",
       "      <th>2</th>\n",
       "      <td>cons.price.idx</td>\n",
       "      <td>4.41</td>\n",
       "    </tr>\n",
       "    <tr>\n",
       "      <th>4</th>\n",
       "      <td>euribor3m</td>\n",
       "      <td>3.77</td>\n",
       "    </tr>\n",
       "    <tr>\n",
       "      <th>6</th>\n",
       "      <td>contact_telephone</td>\n",
       "      <td>3.01</td>\n",
       "    </tr>\n",
       "    <tr>\n",
       "      <th>7</th>\n",
       "      <td>month_aug</td>\n",
       "      <td>2.85</td>\n",
       "    </tr>\n",
       "    <tr>\n",
       "      <th>10</th>\n",
       "      <td>month_may</td>\n",
       "      <td>2.34</td>\n",
       "    </tr>\n",
       "    <tr>\n",
       "      <th>3</th>\n",
       "      <td>cons.conf.idx</td>\n",
       "      <td>2.31</td>\n",
       "    </tr>\n",
       "    <tr>\n",
       "      <th>8</th>\n",
       "      <td>month_jun</td>\n",
       "      <td>1.90</td>\n",
       "    </tr>\n",
       "    <tr>\n",
       "      <th>11</th>\n",
       "      <td>month_nov</td>\n",
       "      <td>1.69</td>\n",
       "    </tr>\n",
       "    <tr>\n",
       "      <th>12</th>\n",
       "      <td>poutcome_nonexistent</td>\n",
       "      <td>1.57</td>\n",
       "    </tr>\n",
       "    <tr>\n",
       "      <th>13</th>\n",
       "      <td>poutcome_success</td>\n",
       "      <td>1.43</td>\n",
       "    </tr>\n",
       "    <tr>\n",
       "      <th>9</th>\n",
       "      <td>month_mar</td>\n",
       "      <td>1.09</td>\n",
       "    </tr>\n",
       "    <tr>\n",
       "      <th>1</th>\n",
       "      <td>campaign</td>\n",
       "      <td>1.04</td>\n",
       "    </tr>\n",
       "    <tr>\n",
       "      <th>5</th>\n",
       "      <td>job_blue-collar</td>\n",
       "      <td>1.04</td>\n",
       "    </tr>\n",
       "    <tr>\n",
       "      <th>0</th>\n",
       "      <td>duration</td>\n",
       "      <td>1.02</td>\n",
       "    </tr>\n",
       "  </tbody>\n",
       "</table>\n",
       "</div>"
      ],
      "text/plain": [
       "                Features   VIF\n",
       "2         cons.price.idx  4.41\n",
       "4              euribor3m  3.77\n",
       "6      contact_telephone  3.01\n",
       "7              month_aug  2.85\n",
       "10             month_may  2.34\n",
       "3          cons.conf.idx  2.31\n",
       "8              month_jun  1.90\n",
       "11             month_nov  1.69\n",
       "12  poutcome_nonexistent  1.57\n",
       "13      poutcome_success  1.43\n",
       "9              month_mar  1.09\n",
       "1               campaign  1.04\n",
       "5        job_blue-collar  1.04\n",
       "0               duration  1.02"
      ]
     },
     "execution_count": 47,
     "metadata": {},
     "output_type": "execute_result"
    }
   ],
   "source": [
    "checkVIF(X_train_model)"
   ]
  },
  {
   "cell_type": "code",
   "execution_count": 48,
   "metadata": {},
   "outputs": [],
   "source": [
    "X_train_model = X_train_model.drop([\"month_aug\"], axis = 1)"
   ]
  },
  {
   "cell_type": "code",
   "execution_count": 49,
   "metadata": {},
   "outputs": [
    {
     "name": "stdout",
     "output_type": "stream",
     "text": [
      "                 Generalized Linear Model Regression Results                  \n",
      "==============================================================================\n",
      "Dep. Variable:           subscription   No. Observations:                27807\n",
      "Model:                            GLM   Df Residuals:                    27793\n",
      "Model Family:                Binomial   Df Model:                           13\n",
      "Link Function:                  logit   Scale:                          1.0000\n",
      "Method:                          IRLS   Log-Likelihood:                -5118.1\n",
      "Date:                Mon, 14 Jun 2021   Deviance:                       10236.\n",
      "Time:                        14:40:00   Pearson chi2:                 1.90e+04\n",
      "No. Iterations:                     7                                         \n",
      "Covariance Type:            nonrobust                                         \n",
      "========================================================================================\n",
      "                           coef    std err          z      P>|z|      [0.025      0.975]\n",
      "----------------------------------------------------------------------------------------\n",
      "const                   -3.4753      0.043    -80.280      0.000      -3.560      -3.390\n",
      "duration                 1.2322      0.023     53.884      0.000       1.187       1.277\n",
      "campaign                -0.1667      0.043     -3.874      0.000      -0.251      -0.082\n",
      "cons.price.idx           0.2464      0.032      7.785      0.000       0.184       0.308\n",
      "cons.conf.idx            0.2761      0.024     11.413      0.000       0.229       0.323\n",
      "euribor3m               -1.2837      0.036    -35.644      0.000      -1.354      -1.213\n",
      "job_blue-collar         -0.1701      0.031     -5.552      0.000      -0.230      -0.110\n",
      "contact_telephone       -0.1992      0.042     -4.732      0.000      -0.282      -0.117\n",
      "month_jun                0.0805      0.030      2.661      0.008       0.021       0.140\n",
      "month_mar                0.1638      0.016     10.397      0.000       0.133       0.195\n",
      "month_may               -0.4576      0.035    -13.108      0.000      -0.526      -0.389\n",
      "month_nov               -0.0487      0.029     -1.708      0.088      -0.105       0.007\n",
      "poutcome_nonexistent     0.1621      0.027      5.910      0.000       0.108       0.216\n",
      "poutcome_success         0.3126      0.019     16.408      0.000       0.275       0.350\n",
      "========================================================================================\n"
     ]
    }
   ],
   "source": [
    "X_train_model = build_model(X_train_model,y_train)"
   ]
  },
  {
   "cell_type": "code",
   "execution_count": 50,
   "metadata": {},
   "outputs": [
    {
     "data": {
      "text/html": [
       "<div>\n",
       "<style scoped>\n",
       "    .dataframe tbody tr th:only-of-type {\n",
       "        vertical-align: middle;\n",
       "    }\n",
       "\n",
       "    .dataframe tbody tr th {\n",
       "        vertical-align: top;\n",
       "    }\n",
       "\n",
       "    .dataframe thead th {\n",
       "        text-align: right;\n",
       "    }\n",
       "</style>\n",
       "<table border=\"1\" class=\"dataframe\">\n",
       "  <thead>\n",
       "    <tr style=\"text-align: right;\">\n",
       "      <th></th>\n",
       "      <th>Features</th>\n",
       "      <th>VIF</th>\n",
       "    </tr>\n",
       "  </thead>\n",
       "  <tbody>\n",
       "    <tr>\n",
       "      <th>2</th>\n",
       "      <td>cons.price.idx</td>\n",
       "      <td>3.65</td>\n",
       "    </tr>\n",
       "    <tr>\n",
       "      <th>4</th>\n",
       "      <td>euribor3m</td>\n",
       "      <td>3.47</td>\n",
       "    </tr>\n",
       "    <tr>\n",
       "      <th>6</th>\n",
       "      <td>contact_telephone</td>\n",
       "      <td>2.86</td>\n",
       "    </tr>\n",
       "    <tr>\n",
       "      <th>9</th>\n",
       "      <td>month_may</td>\n",
       "      <td>2.04</td>\n",
       "    </tr>\n",
       "    <tr>\n",
       "      <th>7</th>\n",
       "      <td>month_jun</td>\n",
       "      <td>1.90</td>\n",
       "    </tr>\n",
       "    <tr>\n",
       "      <th>11</th>\n",
       "      <td>poutcome_nonexistent</td>\n",
       "      <td>1.57</td>\n",
       "    </tr>\n",
       "    <tr>\n",
       "      <th>3</th>\n",
       "      <td>cons.conf.idx</td>\n",
       "      <td>1.52</td>\n",
       "    </tr>\n",
       "    <tr>\n",
       "      <th>12</th>\n",
       "      <td>poutcome_success</td>\n",
       "      <td>1.43</td>\n",
       "    </tr>\n",
       "    <tr>\n",
       "      <th>10</th>\n",
       "      <td>month_nov</td>\n",
       "      <td>1.29</td>\n",
       "    </tr>\n",
       "    <tr>\n",
       "      <th>8</th>\n",
       "      <td>month_mar</td>\n",
       "      <td>1.07</td>\n",
       "    </tr>\n",
       "    <tr>\n",
       "      <th>1</th>\n",
       "      <td>campaign</td>\n",
       "      <td>1.04</td>\n",
       "    </tr>\n",
       "    <tr>\n",
       "      <th>5</th>\n",
       "      <td>job_blue-collar</td>\n",
       "      <td>1.04</td>\n",
       "    </tr>\n",
       "    <tr>\n",
       "      <th>0</th>\n",
       "      <td>duration</td>\n",
       "      <td>1.02</td>\n",
       "    </tr>\n",
       "  </tbody>\n",
       "</table>\n",
       "</div>"
      ],
      "text/plain": [
       "                Features   VIF\n",
       "2         cons.price.idx  3.65\n",
       "4              euribor3m  3.47\n",
       "6      contact_telephone  2.86\n",
       "9              month_may  2.04\n",
       "7              month_jun  1.90\n",
       "11  poutcome_nonexistent  1.57\n",
       "3          cons.conf.idx  1.52\n",
       "12      poutcome_success  1.43\n",
       "10             month_nov  1.29\n",
       "8              month_mar  1.07\n",
       "1               campaign  1.04\n",
       "5        job_blue-collar  1.04\n",
       "0               duration  1.02"
      ]
     },
     "execution_count": 50,
     "metadata": {},
     "output_type": "execute_result"
    }
   ],
   "source": [
    "checkVIF(X_train_model)"
   ]
  },
  {
   "cell_type": "code",
   "execution_count": 51,
   "metadata": {},
   "outputs": [],
   "source": [
    "X_train_model = X_train_model.drop([\"month_nov\"], axis = 1)"
   ]
  },
  {
   "cell_type": "code",
   "execution_count": 52,
   "metadata": {},
   "outputs": [
    {
     "name": "stdout",
     "output_type": "stream",
     "text": [
      "                 Generalized Linear Model Regression Results                  \n",
      "==============================================================================\n",
      "Dep. Variable:           subscription   No. Observations:                27807\n",
      "Model:                            GLM   Df Residuals:                    27794\n",
      "Model Family:                Binomial   Df Model:                           12\n",
      "Link Function:                  logit   Scale:                          1.0000\n",
      "Method:                          IRLS   Log-Likelihood:                -5119.6\n",
      "Date:                Mon, 14 Jun 2021   Deviance:                       10239.\n",
      "Time:                        14:40:01   Pearson chi2:                 1.89e+04\n",
      "No. Iterations:                     7                                         \n",
      "Covariance Type:            nonrobust                                         \n",
      "========================================================================================\n",
      "                           coef    std err          z      P>|z|      [0.025      0.975]\n",
      "----------------------------------------------------------------------------------------\n",
      "const                   -3.4734      0.043    -80.283      0.000      -3.558      -3.389\n",
      "duration                 1.2320      0.023     53.880      0.000       1.187       1.277\n",
      "campaign                -0.1628      0.043     -3.791      0.000      -0.247      -0.079\n",
      "cons.price.idx           0.2538      0.031      8.107      0.000       0.192       0.315\n",
      "cons.conf.idx            0.2758      0.024     11.397      0.000       0.228       0.323\n",
      "euribor3m               -1.2912      0.036    -36.166      0.000      -1.361      -1.221\n",
      "job_blue-collar         -0.1692      0.031     -5.522      0.000      -0.229      -0.109\n",
      "contact_telephone       -0.2004      0.042     -4.757      0.000      -0.283      -0.118\n",
      "month_jun                0.0880      0.030      2.937      0.003       0.029       0.147\n",
      "month_mar                0.1665      0.016     10.614      0.000       0.136       0.197\n",
      "month_may               -0.4450      0.034    -13.024      0.000      -0.512      -0.378\n",
      "poutcome_nonexistent     0.1652      0.027      6.038      0.000       0.112       0.219\n",
      "poutcome_success         0.3119      0.019     16.386      0.000       0.275       0.349\n",
      "========================================================================================\n"
     ]
    }
   ],
   "source": [
    "X_train_model = build_model(X_train_model,y_train)"
   ]
  },
  {
   "cell_type": "code",
   "execution_count": 53,
   "metadata": {},
   "outputs": [
    {
     "data": {
      "text/html": [
       "<div>\n",
       "<style scoped>\n",
       "    .dataframe tbody tr th:only-of-type {\n",
       "        vertical-align: middle;\n",
       "    }\n",
       "\n",
       "    .dataframe tbody tr th {\n",
       "        vertical-align: top;\n",
       "    }\n",
       "\n",
       "    .dataframe thead th {\n",
       "        text-align: right;\n",
       "    }\n",
       "</style>\n",
       "<table border=\"1\" class=\"dataframe\">\n",
       "  <thead>\n",
       "    <tr style=\"text-align: right;\">\n",
       "      <th></th>\n",
       "      <th>Features</th>\n",
       "      <th>VIF</th>\n",
       "    </tr>\n",
       "  </thead>\n",
       "  <tbody>\n",
       "    <tr>\n",
       "      <th>2</th>\n",
       "      <td>cons.price.idx</td>\n",
       "      <td>3.27</td>\n",
       "    </tr>\n",
       "    <tr>\n",
       "      <th>4</th>\n",
       "      <td>euribor3m</td>\n",
       "      <td>3.27</td>\n",
       "    </tr>\n",
       "    <tr>\n",
       "      <th>6</th>\n",
       "      <td>contact_telephone</td>\n",
       "      <td>2.78</td>\n",
       "    </tr>\n",
       "    <tr>\n",
       "      <th>7</th>\n",
       "      <td>month_jun</td>\n",
       "      <td>1.88</td>\n",
       "    </tr>\n",
       "    <tr>\n",
       "      <th>9</th>\n",
       "      <td>month_may</td>\n",
       "      <td>1.88</td>\n",
       "    </tr>\n",
       "    <tr>\n",
       "      <th>10</th>\n",
       "      <td>poutcome_nonexistent</td>\n",
       "      <td>1.54</td>\n",
       "    </tr>\n",
       "    <tr>\n",
       "      <th>3</th>\n",
       "      <td>cons.conf.idx</td>\n",
       "      <td>1.49</td>\n",
       "    </tr>\n",
       "    <tr>\n",
       "      <th>11</th>\n",
       "      <td>poutcome_success</td>\n",
       "      <td>1.43</td>\n",
       "    </tr>\n",
       "    <tr>\n",
       "      <th>8</th>\n",
       "      <td>month_mar</td>\n",
       "      <td>1.06</td>\n",
       "    </tr>\n",
       "    <tr>\n",
       "      <th>5</th>\n",
       "      <td>job_blue-collar</td>\n",
       "      <td>1.04</td>\n",
       "    </tr>\n",
       "    <tr>\n",
       "      <th>1</th>\n",
       "      <td>campaign</td>\n",
       "      <td>1.03</td>\n",
       "    </tr>\n",
       "    <tr>\n",
       "      <th>0</th>\n",
       "      <td>duration</td>\n",
       "      <td>1.02</td>\n",
       "    </tr>\n",
       "  </tbody>\n",
       "</table>\n",
       "</div>"
      ],
      "text/plain": [
       "                Features   VIF\n",
       "2         cons.price.idx  3.27\n",
       "4              euribor3m  3.27\n",
       "6      contact_telephone  2.78\n",
       "7              month_jun  1.88\n",
       "9              month_may  1.88\n",
       "10  poutcome_nonexistent  1.54\n",
       "3          cons.conf.idx  1.49\n",
       "11      poutcome_success  1.43\n",
       "8              month_mar  1.06\n",
       "5        job_blue-collar  1.04\n",
       "1               campaign  1.03\n",
       "0               duration  1.02"
      ]
     },
     "execution_count": 53,
     "metadata": {},
     "output_type": "execute_result"
    }
   ],
   "source": [
    "checkVIF(X_train_model)"
   ]
  },
  {
   "cell_type": "markdown",
   "metadata": {},
   "source": [
    "### All variables now are within acceptable range in terms of p-value and VIF. So we go ahead and make our predictions using this model only."
   ]
  },
  {
   "cell_type": "markdown",
   "metadata": {},
   "source": [
    "## Step 6: Making Predictions Using the Final Model"
   ]
  },
  {
   "cell_type": "code",
   "execution_count": 57,
   "metadata": {},
   "outputs": [],
   "source": [
    "logm2 = sm.GLM(y_train,X_train_model, family = sm.families.Binomial())\n",
    "res = logm2.fit()"
   ]
  },
  {
   "cell_type": "markdown",
   "metadata": {},
   "source": [
    "### Creating Predict on training dataset"
   ]
  },
  {
   "cell_type": "code",
   "execution_count": 59,
   "metadata": {},
   "outputs": [
    {
     "data": {
      "text/plain": [
       "27047    0.361340\n",
       "29548    0.038006\n",
       "5790     0.003839\n",
       "8216     0.008584\n",
       "33367    0.011225\n",
       "30136    0.330796\n",
       "32432    0.016383\n",
       "17269    0.017887\n",
       "29100    0.054684\n",
       "31441    0.022475\n",
       "dtype: float64"
      ]
     },
     "execution_count": 59,
     "metadata": {},
     "output_type": "execute_result"
    }
   ],
   "source": [
    "y_train_pred = res.predict(sm.add_constant(X_train_model))\n",
    "y_train_pred[:10]"
   ]
  },
  {
   "cell_type": "code",
   "execution_count": 60,
   "metadata": {},
   "outputs": [
    {
     "data": {
      "text/plain": [
       "array([0.36134008, 0.03800597, 0.00383863, 0.00858389, 0.01122528,\n",
       "       0.33079581, 0.01638265, 0.01788732, 0.05468419, 0.02247529])"
      ]
     },
     "execution_count": 60,
     "metadata": {},
     "output_type": "execute_result"
    }
   ],
   "source": [
    "y_train_pred = y_train_pred.values.reshape(-1)\n",
    "y_train_pred[:10]"
   ]
  },
  {
   "cell_type": "code",
   "execution_count": 61,
   "metadata": {},
   "outputs": [],
   "source": [
    "y_train_pred_final = pd.DataFrame({'Subscription':y_train.values, 'Subscription_Prob':y_train_pred})"
   ]
  },
  {
   "cell_type": "markdown",
   "metadata": {},
   "source": [
    "### Creating 'predicted' column based on 'Converted_Prob' value >0.5"
   ]
  },
  {
   "cell_type": "code",
   "execution_count": 62,
   "metadata": {},
   "outputs": [],
   "source": [
    "y_train_pred_final['predicted'] = y_train_pred_final['Subscription_Prob'].map(lambda x: 1 if x > 0.5 else 0)"
   ]
  },
  {
   "cell_type": "code",
   "execution_count": 63,
   "metadata": {},
   "outputs": [
    {
     "data": {
      "text/html": [
       "<div>\n",
       "<style scoped>\n",
       "    .dataframe tbody tr th:only-of-type {\n",
       "        vertical-align: middle;\n",
       "    }\n",
       "\n",
       "    .dataframe tbody tr th {\n",
       "        vertical-align: top;\n",
       "    }\n",
       "\n",
       "    .dataframe thead th {\n",
       "        text-align: right;\n",
       "    }\n",
       "</style>\n",
       "<table border=\"1\" class=\"dataframe\">\n",
       "  <thead>\n",
       "    <tr style=\"text-align: right;\">\n",
       "      <th></th>\n",
       "      <th>Subscription</th>\n",
       "      <th>Subscription_Prob</th>\n",
       "      <th>predicted</th>\n",
       "    </tr>\n",
       "  </thead>\n",
       "  <tbody>\n",
       "    <tr>\n",
       "      <th>0</th>\n",
       "      <td>1</td>\n",
       "      <td>0.361340</td>\n",
       "      <td>0</td>\n",
       "    </tr>\n",
       "    <tr>\n",
       "      <th>1</th>\n",
       "      <td>0</td>\n",
       "      <td>0.038006</td>\n",
       "      <td>0</td>\n",
       "    </tr>\n",
       "    <tr>\n",
       "      <th>2</th>\n",
       "      <td>0</td>\n",
       "      <td>0.003839</td>\n",
       "      <td>0</td>\n",
       "    </tr>\n",
       "    <tr>\n",
       "      <th>3</th>\n",
       "      <td>0</td>\n",
       "      <td>0.008584</td>\n",
       "      <td>0</td>\n",
       "    </tr>\n",
       "    <tr>\n",
       "      <th>4</th>\n",
       "      <td>0</td>\n",
       "      <td>0.011225</td>\n",
       "      <td>0</td>\n",
       "    </tr>\n",
       "    <tr>\n",
       "      <th>...</th>\n",
       "      <td>...</td>\n",
       "      <td>...</td>\n",
       "      <td>...</td>\n",
       "    </tr>\n",
       "    <tr>\n",
       "      <th>27802</th>\n",
       "      <td>0</td>\n",
       "      <td>0.001696</td>\n",
       "      <td>0</td>\n",
       "    </tr>\n",
       "    <tr>\n",
       "      <th>27803</th>\n",
       "      <td>0</td>\n",
       "      <td>0.005395</td>\n",
       "      <td>0</td>\n",
       "    </tr>\n",
       "    <tr>\n",
       "      <th>27804</th>\n",
       "      <td>0</td>\n",
       "      <td>0.011467</td>\n",
       "      <td>0</td>\n",
       "    </tr>\n",
       "    <tr>\n",
       "      <th>27805</th>\n",
       "      <td>1</td>\n",
       "      <td>0.676371</td>\n",
       "      <td>1</td>\n",
       "    </tr>\n",
       "    <tr>\n",
       "      <th>27806</th>\n",
       "      <td>1</td>\n",
       "      <td>0.229961</td>\n",
       "      <td>0</td>\n",
       "    </tr>\n",
       "  </tbody>\n",
       "</table>\n",
       "<p>27807 rows × 3 columns</p>\n",
       "</div>"
      ],
      "text/plain": [
       "       Subscription  Subscription_Prob  predicted\n",
       "0                 1           0.361340          0\n",
       "1                 0           0.038006          0\n",
       "2                 0           0.003839          0\n",
       "3                 0           0.008584          0\n",
       "4                 0           0.011225          0\n",
       "...             ...                ...        ...\n",
       "27802             0           0.001696          0\n",
       "27803             0           0.005395          0\n",
       "27804             0           0.011467          0\n",
       "27805             1           0.676371          1\n",
       "27806             1           0.229961          0\n",
       "\n",
       "[27807 rows x 3 columns]"
      ]
     },
     "execution_count": 63,
     "metadata": {},
     "output_type": "execute_result"
    }
   ],
   "source": [
    "y_train_pred_final"
   ]
  },
  {
   "cell_type": "code",
   "execution_count": 64,
   "metadata": {},
   "outputs": [],
   "source": [
    "def confusionMatrix(x,y):  \n",
    "    matrixName=metrics.confusion_matrix(x,y)\n",
    "    print(matrixName)\n",
    "    print()\n",
    "    TP = matrixName[1,1] # true positive \n",
    "    TN = matrixName[0,0] # true negatives\n",
    "    FP = matrixName[0,1] # false positives\n",
    "    FN = matrixName[1,0] # false negatives\n",
    "    matrix={\"TP\": TP,\"TN\":TN,\"FP\":FP,\"FN\":FN}\n",
    "    print()\n",
    "    print(matrix)\n",
    "    print(\"Sensitivity is : \",round(TP / float(TP+FN),3))\n",
    "    print(\"Specificity is : \",round(TN / float(TN+FP),3))\n",
    "    print(\"False Postive Rate is :\",round(FP/ float(TN+FP),3))\n",
    "    print(\"Positive predictive value is : \",round(TP / float(TP+FP),3))\n",
    "    print(\"Negative predictive value is : \",round(TN / float(TN+ FN),3))\n",
    "    print(\"Accuracy Score is : \",round(metrics.accuracy_score(x,y),3))\n",
    "    print(\"Precision Score is : \",round(precision_score(x,y),3))\n",
    "    print(\"Recall Value is : \",round(recall_score(x,y),3))    "
   ]
  },
  {
   "cell_type": "markdown",
   "metadata": {},
   "source": [
    "### Creating confusion matrix and related values using the y_train_pred_final"
   ]
  },
  {
   "cell_type": "code",
   "execution_count": 65,
   "metadata": {},
   "outputs": [
    {
     "name": "stdout",
     "output_type": "stream",
     "text": [
      "[[24490   611]\n",
      " [ 1581  1125]]\n",
      "\n",
      "\n",
      "{'TP': 1125, 'TN': 24490, 'FP': 611, 'FN': 1581}\n",
      "Sensitivity is :  0.416\n",
      "Specificity is :  0.976\n",
      "False Postive Rate is : 0.024\n",
      "Positive predictive value is :  0.648\n",
      "Negative predictive value is :  0.939\n",
      "Accuracy Score is :  0.921\n",
      "Precision Score is :  0.648\n",
      "Recall Value is :  0.416\n"
     ]
    }
   ],
   "source": [
    "confusionMatrix(y_train_pred_final['Subscription'], y_train_pred_final['predicted'])"
   ]
  },
  {
   "cell_type": "markdown",
   "metadata": {},
   "source": [
    "### Drawing ROC curve for the Training Dataset"
   ]
  },
  {
   "cell_type": "code",
   "execution_count": 66,
   "metadata": {},
   "outputs": [],
   "source": [
    "def draw_roc(actual, probs):\n",
    "    fpr, tpr, thresholds = metrics.roc_curve( actual, probs,drop_intermediate = False )\n",
    "    auc_score = metrics.roc_auc_score( actual, probs )\n",
    "    plt.figure(figsize=(10, 5))\n",
    "    plt.plot( fpr, tpr, label='ROC curve (area = %0.2f)' % auc_score )\n",
    "    plt.plot([0, 1], [0, 1], 'k--')\n",
    "    plt.xlim([0.0, 1.0])\n",
    "    plt.ylim([0.0, 1.05])\n",
    "    plt.xlabel('False Positive Rate or [1 - True Negative Rate]')\n",
    "    plt.ylabel('True Positive Rate')\n",
    "    plt.title('Receiver operating characteristic example')\n",
    "    plt.legend(loc=\"lower right\")\n",
    "    plt.grid()\n",
    "    plt.show()\n",
    "\n",
    "    return None"
   ]
  },
  {
   "cell_type": "code",
   "execution_count": 67,
   "metadata": {},
   "outputs": [],
   "source": [
    "fpr, tpr, thresholds = metrics.roc_curve( y_train_pred_final['Subscription'], y_train_pred_final['Subscription_Prob'], drop_intermediate = False )"
   ]
  },
  {
   "cell_type": "code",
   "execution_count": 68,
   "metadata": {},
   "outputs": [
    {
     "data": {
      "image/png": "[encoded data removed]",
      "text/plain": [
       "<Figure size 720x360 with 1 Axes>"
      ]
     },
     "metadata": {},
     "output_type": "display_data"
    }
   ],
   "source": [
    "draw_roc(y_train_pred_final['Subscription'],y_train_pred_final['Subscription_Prob'])"
   ]
  },
  {
   "cell_type": "markdown",
   "metadata": {},
   "source": [
    "### Creating columns with different probability cutoffs "
   ]
  },
  {
   "cell_type": "code",
   "execution_count": 70,
   "metadata": {},
   "outputs": [
    {
     "data": {
      "text/html": [
       "<div>\n",
       "<style scoped>\n",
       "    .dataframe tbody tr th:only-of-type {\n",
       "        vertical-align: middle;\n",
       "    }\n",
       "\n",
       "    .dataframe tbody tr th {\n",
       "        vertical-align: top;\n",
       "    }\n",
       "\n",
       "    .dataframe thead th {\n",
       "        text-align: right;\n",
       "    }\n",
       "</style>\n",
       "<table border=\"1\" class=\"dataframe\">\n",
       "  <thead>\n",
       "    <tr style=\"text-align: right;\">\n",
       "      <th></th>\n",
       "      <th>Subscription</th>\n",
       "      <th>Subscription_Prob</th>\n",
       "      <th>predicted</th>\n",
       "      <th>0.0</th>\n",
       "      <th>0.1</th>\n",
       "      <th>0.2</th>\n",
       "      <th>0.3</th>\n",
       "      <th>0.4</th>\n",
       "      <th>0.5</th>\n",
       "      <th>0.6</th>\n",
       "      <th>0.7</th>\n",
       "      <th>0.8</th>\n",
       "      <th>0.9</th>\n",
       "    </tr>\n",
       "  </thead>\n",
       "  <tbody>\n",
       "    <tr>\n",
       "      <th>0</th>\n",
       "      <td>1</td>\n",
       "      <td>0.361340</td>\n",
       "      <td>0</td>\n",
       "      <td>1</td>\n",
       "      <td>1</td>\n",
       "      <td>1</td>\n",
       "      <td>1</td>\n",
       "      <td>0</td>\n",
       "      <td>0</td>\n",
       "      <td>0</td>\n",
       "      <td>0</td>\n",
       "      <td>0</td>\n",
       "      <td>0</td>\n",
       "    </tr>\n",
       "    <tr>\n",
       "      <th>1</th>\n",
       "      <td>0</td>\n",
       "      <td>0.038006</td>\n",
       "      <td>0</td>\n",
       "      <td>1</td>\n",
       "      <td>0</td>\n",
       "      <td>0</td>\n",
       "      <td>0</td>\n",
       "      <td>0</td>\n",
       "      <td>0</td>\n",
       "      <td>0</td>\n",
       "      <td>0</td>\n",
       "      <td>0</td>\n",
       "      <td>0</td>\n",
       "    </tr>\n",
       "    <tr>\n",
       "      <th>2</th>\n",
       "      <td>0</td>\n",
       "      <td>0.003839</td>\n",
       "      <td>0</td>\n",
       "      <td>1</td>\n",
       "      <td>0</td>\n",
       "      <td>0</td>\n",
       "      <td>0</td>\n",
       "      <td>0</td>\n",
       "      <td>0</td>\n",
       "      <td>0</td>\n",
       "      <td>0</td>\n",
       "      <td>0</td>\n",
       "      <td>0</td>\n",
       "    </tr>\n",
       "    <tr>\n",
       "      <th>3</th>\n",
       "      <td>0</td>\n",
       "      <td>0.008584</td>\n",
       "      <td>0</td>\n",
       "      <td>1</td>\n",
       "      <td>0</td>\n",
       "      <td>0</td>\n",
       "      <td>0</td>\n",
       "      <td>0</td>\n",
       "      <td>0</td>\n",
       "      <td>0</td>\n",
       "      <td>0</td>\n",
       "      <td>0</td>\n",
       "      <td>0</td>\n",
       "    </tr>\n",
       "    <tr>\n",
       "      <th>4</th>\n",
       "      <td>0</td>\n",
       "      <td>0.011225</td>\n",
       "      <td>0</td>\n",
       "      <td>1</td>\n",
       "      <td>0</td>\n",
       "      <td>0</td>\n",
       "      <td>0</td>\n",
       "      <td>0</td>\n",
       "      <td>0</td>\n",
       "      <td>0</td>\n",
       "      <td>0</td>\n",
       "      <td>0</td>\n",
       "      <td>0</td>\n",
       "    </tr>\n",
       "  </tbody>\n",
       "</table>\n",
       "</div>"
      ],
      "text/plain": [
       "   Subscription  Subscription_Prob  predicted  0.0  0.1  0.2  0.3  0.4  0.5  0.6  0.7  0.8  0.9\n",
       "0             1           0.361340          0    1    1    1    1    0    0    0    0    0    0\n",
       "1             0           0.038006          0    1    0    0    0    0    0    0    0    0    0\n",
       "2             0           0.003839          0    1    0    0    0    0    0    0    0    0    0\n",
       "3             0           0.008584          0    1    0    0    0    0    0    0    0    0    0\n",
       "4             0           0.011225          0    1    0    0    0    0    0    0    0    0    0"
      ]
     },
     "execution_count": 70,
     "metadata": {},
     "output_type": "execute_result"
    }
   ],
   "source": [
    "numbers = [float(x)/10 for x in range(10)]\n",
    "for i in numbers:\n",
    "    y_train_pred_final[i]= y_train_pred_final['Subscription_Prob'].map(lambda x: 1 if x > i else 0)\n",
    "y_train_pred_final.head()"
   ]
  },
  {
   "cell_type": "markdown",
   "metadata": {},
   "source": [
    "### Calculate accuracy sensitivity & specificity for various probability cutoffs"
   ]
  },
  {
   "cell_type": "code",
   "execution_count": 71,
   "metadata": {},
   "outputs": [
    {
     "name": "stdout",
     "output_type": "stream",
     "text": [
      "     prob  accuracy     sensi     speci\n",
      "0.0   0.0  0.097314  1.000000  0.000000\n",
      "0.1   0.1  0.858705  0.886548  0.855703\n",
      "0.2   0.2  0.905851  0.732077  0.924585\n",
      "0.3   0.3  0.917431  0.601996  0.951436\n",
      "0.4   0.4  0.919768  0.497044  0.965340\n",
      "0.5   0.5  0.921171  0.415743  0.975658\n",
      "0.6   0.6  0.919085  0.327421  0.982869\n",
      "0.7   0.7  0.915813  0.236881  0.989004\n",
      "0.8   0.8  0.912072  0.155580  0.993626\n",
      "0.9   0.9  0.907254  0.071693  0.997331\n"
     ]
    }
   ],
   "source": [
    "cutoff_df = pd.DataFrame( columns = ['prob','accuracy','sensi','speci'])\n",
    "num = [0.0,0.1,0.2,0.3,0.4,0.5,0.6,0.7,0.8,0.9]\n",
    "for i in num:\n",
    "    cm1 = metrics.confusion_matrix(y_train_pred_final['Subscription'], y_train_pred_final[i])\n",
    "    total1=sum(sum(cm1))\n",
    "    accuracy = (cm1[0,0]+cm1[1,1])/total1\n",
    "    speci = cm1[0,0]/(cm1[0,0]+cm1[0,1])\n",
    "    sensi = cm1[1,1]/(cm1[1,0]+cm1[1,1])\n",
    "    cutoff_df.loc[i] =[ i ,accuracy,sensi,speci]\n",
    "print(cutoff_df)"
   ]
  },
  {
   "cell_type": "markdown",
   "metadata": {},
   "source": [
    "### Plot accuracy,sensitivity & specificity for various probabilities"
   ]
  },
  {
   "cell_type": "code",
   "execution_count": 72,
   "metadata": {},
   "outputs": [
    {
     "data": {
      "text/plain": [
       "<Figure size 720x360 with 0 Axes>"
      ]
     },
     "metadata": {},
     "output_type": "display_data"
    },
    {
     "data": {
      "image/png": "[encoded data removed]",
      "text/plain": [
       "<Figure size 432x288 with 1 Axes>"
      ]
     },
     "metadata": {},
     "output_type": "display_data"
    }
   ],
   "source": [
    "# Let's plot accuracy sensitivity and specificity for various probabilities.\n",
    "plt.figure(figsize=(10, 5))\n",
    "cutoff_df.plot.line(x='prob', y=['accuracy','sensi','speci'])\n",
    "plt.title('accuracy,sensitivity & specificity vs. probability')\n",
    "plt.xlabel('Probability')\n",
    "plt.ylabel('accuracy,sensitivity & specificity')\n",
    "plt.legend()\n",
    "plt.grid()\n",
    "plt.show()"
   ]
  },
  {
   "cell_type": "markdown",
   "metadata": {},
   "source": [
    "### Creating 'predicted' column based on 'Converted_Prob' value >0.25"
   ]
  },
  {
   "cell_type": "code",
   "execution_count": 74,
   "metadata": {},
   "outputs": [
    {
     "data": {
      "text/html": [
       "<div>\n",
       "<style scoped>\n",
       "    .dataframe tbody tr th:only-of-type {\n",
       "        vertical-align: middle;\n",
       "    }\n",
       "\n",
       "    .dataframe tbody tr th {\n",
       "        vertical-align: top;\n",
       "    }\n",
       "\n",
       "    .dataframe thead th {\n",
       "        text-align: right;\n",
       "    }\n",
       "</style>\n",
       "<table border=\"1\" class=\"dataframe\">\n",
       "  <thead>\n",
       "    <tr style=\"text-align: right;\">\n",
       "      <th></th>\n",
       "      <th>Subscription</th>\n",
       "      <th>Subscription_Prob</th>\n",
       "      <th>predicted</th>\n",
       "      <th>0.0</th>\n",
       "      <th>0.1</th>\n",
       "      <th>0.2</th>\n",
       "      <th>0.3</th>\n",
       "      <th>0.4</th>\n",
       "      <th>0.5</th>\n",
       "      <th>0.6</th>\n",
       "      <th>0.7</th>\n",
       "      <th>0.8</th>\n",
       "      <th>0.9</th>\n",
       "      <th>final_predicted</th>\n",
       "    </tr>\n",
       "  </thead>\n",
       "  <tbody>\n",
       "    <tr>\n",
       "      <th>0</th>\n",
       "      <td>1</td>\n",
       "      <td>0.361340</td>\n",
       "      <td>0</td>\n",
       "      <td>1</td>\n",
       "      <td>1</td>\n",
       "      <td>1</td>\n",
       "      <td>1</td>\n",
       "      <td>0</td>\n",
       "      <td>0</td>\n",
       "      <td>0</td>\n",
       "      <td>0</td>\n",
       "      <td>0</td>\n",
       "      <td>0</td>\n",
       "      <td>1</td>\n",
       "    </tr>\n",
       "    <tr>\n",
       "      <th>1</th>\n",
       "      <td>0</td>\n",
       "      <td>0.038006</td>\n",
       "      <td>0</td>\n",
       "      <td>1</td>\n",
       "      <td>0</td>\n",
       "      <td>0</td>\n",
       "      <td>0</td>\n",
       "      <td>0</td>\n",
       "      <td>0</td>\n",
       "      <td>0</td>\n",
       "      <td>0</td>\n",
       "      <td>0</td>\n",
       "      <td>0</td>\n",
       "      <td>0</td>\n",
       "    </tr>\n",
       "    <tr>\n",
       "      <th>2</th>\n",
       "      <td>0</td>\n",
       "      <td>0.003839</td>\n",
       "      <td>0</td>\n",
       "      <td>1</td>\n",
       "      <td>0</td>\n",
       "      <td>0</td>\n",
       "      <td>0</td>\n",
       "      <td>0</td>\n",
       "      <td>0</td>\n",
       "      <td>0</td>\n",
       "      <td>0</td>\n",
       "      <td>0</td>\n",
       "      <td>0</td>\n",
       "      <td>0</td>\n",
       "    </tr>\n",
       "    <tr>\n",
       "      <th>3</th>\n",
       "      <td>0</td>\n",
       "      <td>0.008584</td>\n",
       "      <td>0</td>\n",
       "      <td>1</td>\n",
       "      <td>0</td>\n",
       "      <td>0</td>\n",
       "      <td>0</td>\n",
       "      <td>0</td>\n",
       "      <td>0</td>\n",
       "      <td>0</td>\n",
       "      <td>0</td>\n",
       "      <td>0</td>\n",
       "      <td>0</td>\n",
       "      <td>0</td>\n",
       "    </tr>\n",
       "    <tr>\n",
       "      <th>4</th>\n",
       "      <td>0</td>\n",
       "      <td>0.011225</td>\n",
       "      <td>0</td>\n",
       "      <td>1</td>\n",
       "      <td>0</td>\n",
       "      <td>0</td>\n",
       "      <td>0</td>\n",
       "      <td>0</td>\n",
       "      <td>0</td>\n",
       "      <td>0</td>\n",
       "      <td>0</td>\n",
       "      <td>0</td>\n",
       "      <td>0</td>\n",
       "      <td>0</td>\n",
       "    </tr>\n",
       "  </tbody>\n",
       "</table>\n",
       "</div>"
      ],
      "text/plain": [
       "   Subscription  Subscription_Prob  predicted  0.0  0.1  0.2  0.3  0.4  0.5  0.6  0.7  0.8  0.9  final_predicted\n",
       "0             1           0.361340          0    1    1    1    1    0    0    0    0    0    0                1\n",
       "1             0           0.038006          0    1    0    0    0    0    0    0    0    0    0                0\n",
       "2             0           0.003839          0    1    0    0    0    0    0    0    0    0    0                0\n",
       "3             0           0.008584          0    1    0    0    0    0    0    0    0    0    0                0\n",
       "4             0           0.011225          0    1    0    0    0    0    0    0    0    0    0                0"
      ]
     },
     "execution_count": 74,
     "metadata": {},
     "output_type": "execute_result"
    }
   ],
   "source": [
    "y_train_pred_final['final_predicted'] = y_train_pred_final['Subscription_Prob'].map( lambda x: 1 if x > 0.15 else 0)\n",
    "y_train_pred_final.head()"
   ]
  },
  {
   "cell_type": "markdown",
   "metadata": {},
   "source": [
    "### Creating confusion matrix and related values using y_train_pred_final"
   ]
  },
  {
   "cell_type": "code",
   "execution_count": 75,
   "metadata": {},
   "outputs": [
    {
     "name": "stdout",
     "output_type": "stream",
     "text": [
      "[[22572  2529]\n",
      " [  527  2179]]\n",
      "\n",
      "\n",
      "{'TP': 2179, 'TN': 22572, 'FP': 2529, 'FN': 527}\n",
      "Sensitivity is :  0.805\n",
      "Specificity is :  0.899\n",
      "False Postive Rate is : 0.101\n",
      "Positive predictive value is :  0.463\n",
      "Negative predictive value is :  0.977\n",
      "Accuracy Score is :  0.89\n",
      "Precision Score is :  0.463\n",
      "Recall Value is :  0.805\n"
     ]
    }
   ],
   "source": [
    "confusionMatrix(y_train_pred_final['Subscription'], y_train_pred_final['final_predicted'])"
   ]
  },
  {
   "cell_type": "code",
   "execution_count": 79,
   "metadata": {},
   "outputs": [],
   "source": [
    "y_train_pred_final['Subscription'], y_train_pred_final['final_predicted']\n",
    "p, r, thresholds = precision_recall_curve(y_train_pred_final['Subscription'], y_train_pred_final['Subscription_Prob'])"
   ]
  },
  {
   "cell_type": "code",
   "execution_count": 81,
   "metadata": {},
   "outputs": [
    {
     "data": {
      "image/png": "[encoded data removed]",
      "text/plain": [
       "<Figure size 432x288 with 1 Axes>"
      ]
     },
     "metadata": {},
     "output_type": "display_data"
    }
   ],
   "source": [
    "plt.plot(thresholds, p[:-1], \"g-\")\n",
    "plt.plot(thresholds, r[:-1], \"r-\")\n",
    "plt.title(\"Precision Recall Plot\")\n",
    "plt.grid()\n",
    "plt.show()"
   ]
  },
  {
   "cell_type": "markdown",
   "metadata": {},
   "source": [
    "## Step 7: Model Evaluation    "
   ]
  },
  {
   "cell_type": "code",
   "execution_count": 82,
   "metadata": {},
   "outputs": [],
   "source": [
    "cols=X_train.select_dtypes(include='number').columns\n",
    "X_test[cols]=scaler.fit_transform(X_test[cols])"
   ]
  },
  {
   "cell_type": "code",
   "execution_count": 83,
   "metadata": {},
   "outputs": [],
   "source": [
    "final_col=X_train_model.drop('const',axis=1)"
   ]
  },
  {
   "cell_type": "code",
   "execution_count": 84,
   "metadata": {},
   "outputs": [],
   "source": [
    "X_test=X_test[final_col.columns]"
   ]
  },
  {
   "cell_type": "code",
   "execution_count": 85,
   "metadata": {},
   "outputs": [
    {
     "data": {
      "text/plain": [
       "10343    0.004420\n",
       "22749    0.014196\n",
       "14989    0.029889\n",
       "16962    0.008422\n",
       "17772    0.011658\n",
       "12235    0.008335\n",
       "10714    0.009442\n",
       "11211    0.026483\n",
       "26157    0.023828\n",
       "32912    0.064804\n",
       "dtype: float64"
      ]
     },
     "execution_count": 85,
     "metadata": {},
     "output_type": "execute_result"
    }
   ],
   "source": [
    "X_test_sm = sm.add_constant(X_test)\n",
    "y_test_pred = res.predict(X_test_sm)\n",
    "y_test_pred[:10]"
   ]
  },
  {
   "cell_type": "code",
   "execution_count": 86,
   "metadata": {},
   "outputs": [],
   "source": [
    "y_pred_1 = pd.DataFrame(y_test_pred)\n",
    "y_test_df = pd.DataFrame(y_test)"
   ]
  },
  {
   "cell_type": "code",
   "execution_count": 87,
   "metadata": {},
   "outputs": [],
   "source": [
    "y_pred_1.reset_index(drop=True, inplace=True)\n",
    "y_test_df.reset_index(drop=True, inplace=True)"
   ]
  },
  {
   "cell_type": "code",
   "execution_count": 88,
   "metadata": {},
   "outputs": [],
   "source": [
    "y_test_pred_final = pd.concat([y_test_df, y_pred_1],axis=1)"
   ]
  },
  {
   "cell_type": "code",
   "execution_count": 1,
   "metadata": {},
   "outputs": [
    {
     "ename": "NameError",
     "evalue": "name 'y_test_pred_final' is not defined",
     "output_type": "error",
     "traceback": [
      "\u001b[1;31m---------------------------------------------------------------------------\u001b[0m",
      "\u001b[1;31mNameError\u001b[0m                                 Traceback (most recent call last)",
      "\u001b[1;32m<ipython-input-1-a83019db5b4c>\u001b[0m in \u001b[0;36m<module>\u001b[1;34m\u001b[0m\n\u001b[1;32m----> 1\u001b[1;33m \u001b[0my_test_pred_final\u001b[0m\u001b[1;33m=\u001b[0m \u001b[0my_test_pred_final\u001b[0m\u001b[1;33m.\u001b[0m\u001b[0mrename\u001b[0m\u001b[1;33m(\u001b[0m\u001b[0mcolumns\u001b[0m\u001b[1;33m=\u001b[0m\u001b[1;33m{\u001b[0m \u001b[1;36m0\u001b[0m \u001b[1;33m:\u001b[0m \u001b[1;34m'Subscription_Prob'\u001b[0m\u001b[1;33m}\u001b[0m\u001b[1;33m)\u001b[0m\u001b[1;33m\u001b[0m\u001b[1;33m\u001b[0m\u001b[0m\n\u001b[0m",
      "\u001b[1;31mNameError\u001b[0m: name 'y_test_pred_final' is not defined"
     ]
    }
   ],
   "source": [
    "y_test_pred_final= y_test_pred_final.rename(columns={ 0 : 'Subscription_Prob'})"
   ]
  },
  {
   "cell_type": "code",
   "execution_count": 91,
   "metadata": {},
   "outputs": [
    {
     "data": {
      "text/html": [
       "<div>\n",
       "<style scoped>\n",
       "    .dataframe tbody tr th:only-of-type {\n",
       "        vertical-align: middle;\n",
       "    }\n",
       "\n",
       "    .dataframe tbody tr th {\n",
       "        vertical-align: top;\n",
       "    }\n",
       "\n",
       "    .dataframe thead th {\n",
       "        text-align: right;\n",
       "    }\n",
       "</style>\n",
       "<table border=\"1\" class=\"dataframe\">\n",
       "  <thead>\n",
       "    <tr style=\"text-align: right;\">\n",
       "      <th></th>\n",
       "      <th>subscription</th>\n",
       "      <th>Converted_prob</th>\n",
       "    </tr>\n",
       "  </thead>\n",
       "  <tbody>\n",
       "    <tr>\n",
       "      <th>0</th>\n",
       "      <td>0</td>\n",
       "      <td>0.004420</td>\n",
       "    </tr>\n",
       "    <tr>\n",
       "      <th>1</th>\n",
       "      <td>0</td>\n",
       "      <td>0.014196</td>\n",
       "    </tr>\n",
       "    <tr>\n",
       "      <th>2</th>\n",
       "      <td>0</td>\n",
       "      <td>0.029889</td>\n",
       "    </tr>\n",
       "    <tr>\n",
       "      <th>3</th>\n",
       "      <td>0</td>\n",
       "      <td>0.008422</td>\n",
       "    </tr>\n",
       "    <tr>\n",
       "      <th>4</th>\n",
       "      <td>0</td>\n",
       "      <td>0.011658</td>\n",
       "    </tr>\n",
       "  </tbody>\n",
       "</table>\n",
       "</div>"
      ],
      "text/plain": [
       "   subscription  Converted_prob\n",
       "0             0        0.004420\n",
       "1             0        0.014196\n",
       "2             0        0.029889\n",
       "3             0        0.008422\n",
       "4             0        0.011658"
      ]
     },
     "execution_count": 91,
     "metadata": {},
     "output_type": "execute_result"
    }
   ],
   "source": [
    "y_test_pred_final.head()"
   ]
  },
  {
   "cell_type": "code",
   "execution_count": 93,
   "metadata": {},
   "outputs": [],
   "source": [
    "y_test_pred_final['Converted_Score'] = y_test_pred_final.Subscription_Prob.map( lambda x: round(x*100))"
   ]
  },
  {
   "cell_type": "code",
   "execution_count": 94,
   "metadata": {},
   "outputs": [],
   "source": [
    "y_test_pred_final['final_Predicted'] = y_test_pred_final.Subscription_Prob.map(lambda x: 1 if x > 0.15 else 0)"
   ]
  },
  {
   "cell_type": "markdown",
   "metadata": {},
   "source": [
    "### Creating Confusion matrix for the test Data"
   ]
  },
  {
   "cell_type": "code",
   "execution_count": 96,
   "metadata": {},
   "outputs": [
    {
     "name": "stdout",
     "output_type": "stream",
     "text": [
      "[[9636 1062]\n",
      " [ 243  977]]\n",
      "\n",
      "\n",
      "{'TP': 977, 'TN': 9636, 'FP': 1062, 'FN': 243}\n",
      "Sensitivity is :  0.801\n",
      "Specificity is :  0.901\n",
      "False Postive Rate is : 0.099\n",
      "Positive predictive value is :  0.479\n",
      "Negative predictive value is :  0.975\n",
      "Accuracy Score is :  0.891\n",
      "Precision Score is :  0.479\n",
      "Recall Value is :  0.801\n"
     ]
    }
   ],
   "source": [
    "confusionMatrix(y_test_pred_final['subscription'], y_test_pred_final['final_Predicted'])"
   ]
  },
  {
   "cell_type": "markdown",
   "metadata": {},
   "source": [
    "# Recommendation"
   ]
  },
  {
   "cell_type": "markdown",
   "metadata": {},
   "source": [
    "#### Top features which are recommended by model as factor :\n",
    "    duration\n",
    "    cons.price.idx\n",
    "    cons.conf.idx\n",
    "    month_mar\n",
    "    month_Jun\n",
    "    poutcome_success\n",
    "    poutcome_nonexistent\n",
    "    \n",
    "#### Features which are indicatorsfor not subscription:\n",
    "    campaign\n",
    "    euribor3m\n",
    "    job_blue-collar\n",
    "    contact_telephone\n",
    "    month_may\n"
   ]
  },
  {
   "cell_type": "markdown",
   "metadata": {},
   "source": [
    "# Insights"
   ]
  },
  {
   "cell_type": "markdown",
   "metadata": {},
   "source": [
    "1.) Leads whose origin is either poutcome_success or poutcome_nonexistent are good for subscription.\n",
    "    Marketting spends can be increased on these 2 types of origins to increase revenues for the company as these are more likely to subscribe the banking notification.\n",
    "   \n",
    "2.)  Sales professionals should not invest way too much time on people from job group as 'blue-collar\" as they are most unlikely to subscribe \n"
   ]
  },
  {
   "cell_type": "code",
   "execution_count": null,
   "metadata": {},
   "outputs": [],
   "source": []
  }
 ],
 "metadata": {
  "kernelspec": {
   "display_name": "Python 3",
   "language": "python",
   "name": "python3"
  },
  "language_info": {
   "codemirror_mode": {
    "name": "ipython",
    "version": 3
   },
   "file_extension": ".py",
   "mimetype": "text/x-python",
   "name": "python",
   "nbconvert_exporter": "python",
   "pygments_lexer": "ipython3",
   "version": "3.7.6"
  }
 },
 "nbformat": 4,
 "nbformat_minor": 4
}
